{
 "cells": [
  {
   "cell_type": "markdown",
   "id": "ae9e3b61",
   "metadata": {
    "papermill": {
     "duration": 0.011257,
     "end_time": "2022-06-15T22:26:16.333283",
     "exception": false,
     "start_time": "2022-06-15T22:26:16.322026",
     "status": "completed"
    },
    "tags": []
   },
   "source": [
    "# Setup"
   ]
  },
  {
   "cell_type": "code",
   "execution_count": 1,
   "id": "d0c2d72d",
   "metadata": {
    "_cell_guid": "b1076dfc-b9ad-4769-8c92-a6c4dae69d19",
    "_kg_hide-input": true,
    "_uuid": "8f2839f25d086af736a60e9eeb907d3b93b6e0e5",
    "execution": {
     "iopub.execute_input": "2022-06-15T22:26:16.355978Z",
     "iopub.status.busy": "2022-06-15T22:26:16.355232Z",
     "iopub.status.idle": "2022-06-15T22:26:18.837007Z",
     "shell.execute_reply": "2022-06-15T22:26:18.836051Z"
    },
    "papermill": {
     "duration": 2.497129,
     "end_time": "2022-06-15T22:26:18.840556",
     "exception": false,
     "start_time": "2022-06-15T22:26:16.343427",
     "status": "completed"
    },
    "tags": []
   },
   "outputs": [],
   "source": [
    "import os\n",
    "import gc\n",
    "gc.enable()\n",
    "\n",
    "import numpy as np\n",
    "import scipy.stats as st\n",
    "import pandas as pd\n",
    "pd.set_option('precision', 4)\n",
    "pd.set_option('display.max_columns', None)\n",
    "\n",
    "import optuna\n",
    "optuna.logging.set_verbosity(optuna.logging.ERROR)\n",
    "\n",
    "import catboost as cb\n",
    "from sklearn.model_selection import StratifiedKFold, RepeatedStratifiedKFold\n",
    "from sklearn.metrics import roc_auc_score, balanced_accuracy_score, f1_score\n",
    "from imblearn.over_sampling import RandomOverSampler\n",
    "from imblearn.under_sampling import RandomUnderSampler\n",
    "from typing import Tuple, Any\n",
    "\n",
    "SEED = 23\n",
    "os.environ['PYTHONHASHSEED'] = str(SEED)\n",
    "np.random.seed(SEED)"
   ]
  },
  {
   "cell_type": "code",
   "execution_count": 2,
   "id": "53ec68c0",
   "metadata": {
    "execution": {
     "iopub.execute_input": "2022-06-15T22:26:18.864558Z",
     "iopub.status.busy": "2022-06-15T22:26:18.863278Z",
     "iopub.status.idle": "2022-06-15T22:26:18.868645Z",
     "shell.execute_reply": "2022-06-15T22:26:18.868040Z"
    },
    "papermill": {
     "duration": 0.019378,
     "end_time": "2022-06-15T22:26:18.870708",
     "exception": false,
     "start_time": "2022-06-15T22:26:18.851330",
     "status": "completed"
    },
    "tags": []
   },
   "outputs": [],
   "source": [
    "#remove cell to use future versions\n",
    "assert optuna.__version__ == '2.10.0', f'Change in Optuna version. Original notebook version: 2.10.0'\n",
    "assert cb.__version__ == '1.0.6', f'Change in CatBoost version. Original notebook version: 1.0.6'"
   ]
  },
  {
   "cell_type": "code",
   "execution_count": 3,
   "id": "18be057a",
   "metadata": {
    "execution": {
     "iopub.execute_input": "2022-06-15T22:26:18.892954Z",
     "iopub.status.busy": "2022-06-15T22:26:18.892377Z",
     "iopub.status.idle": "2022-06-15T22:26:18.924516Z",
     "shell.execute_reply": "2022-06-15T22:26:18.923732Z"
    },
    "papermill": {
     "duration": 0.046034,
     "end_time": "2022-06-15T22:26:18.927016",
     "exception": false,
     "start_time": "2022-06-15T22:26:18.880982",
     "status": "completed"
    },
    "tags": []
   },
   "outputs": [],
   "source": [
    "train = pd.read_csv('../input/autismdiagnosis/Autism_Prediction/train.csv')\n",
    "test = pd.read_csv('../input/autismdiagnosis/Autism_Prediction/test.csv')"
   ]
  },
  {
   "cell_type": "markdown",
   "id": "e6157cfe",
   "metadata": {
    "papermill": {
     "duration": 0.010054,
     "end_time": "2022-06-15T22:26:18.947974",
     "exception": false,
     "start_time": "2022-06-15T22:26:18.937920",
     "status": "completed"
    },
    "tags": []
   },
   "source": [
    "# Data preparation"
   ]
  },
  {
   "cell_type": "code",
   "execution_count": 4,
   "id": "4f7a6588",
   "metadata": {
    "execution": {
     "iopub.execute_input": "2022-06-15T22:26:18.970728Z",
     "iopub.status.busy": "2022-06-15T22:26:18.970372Z",
     "iopub.status.idle": "2022-06-15T22:26:18.976914Z",
     "shell.execute_reply": "2022-06-15T22:26:18.976346Z"
    },
    "papermill": {
     "duration": 0.019702,
     "end_time": "2022-06-15T22:26:18.978616",
     "exception": false,
     "start_time": "2022-06-15T22:26:18.958914",
     "status": "completed"
    },
    "tags": []
   },
   "outputs": [],
   "source": [
    "features = ['A1_Score', 'A2_Score', 'A3_Score', 'A4_Score', 'A5_Score', \n",
    "            'A6_Score', 'A7_Score', 'A8_Score', 'A9_Score', 'A10_Score', \n",
    "            'AQ10_sum', 'AQ10_6_or_above', 'result', 'autism_family', \n",
    "            'is_White_European', 'jaundice', 'relation', 'age', 'age_group']\n",
    "\n",
    "num_features = ['result', 'age', 'AQ10_sum'] #continuous features\n",
    "cat_features = [f for f in features if f not in num_features] #categorical features\n",
    "\n",
    "best_features = [f for f in features if f not in ('age', 'age_group', 'jaundice', 'relation')]"
   ]
  },
  {
   "cell_type": "code",
   "execution_count": 5,
   "id": "9a5f0935",
   "metadata": {
    "execution": {
     "iopub.execute_input": "2022-06-15T22:26:19.001455Z",
     "iopub.status.busy": "2022-06-15T22:26:19.000357Z",
     "iopub.status.idle": "2022-06-15T22:26:19.010233Z",
     "shell.execute_reply": "2022-06-15T22:26:19.009585Z"
    },
    "papermill": {
     "duration": 0.023259,
     "end_time": "2022-06-15T22:26:19.012246",
     "exception": false,
     "start_time": "2022-06-15T22:26:18.988987",
     "status": "completed"
    },
    "tags": []
   },
   "outputs": [],
   "source": [
    "def preprocess_dataset(df: pd.DataFrame) -> pd.DataFrame:\n",
    "    \"\"\"Prepare the data according to the process described in\n",
    "    (https://www.kaggle.com/code/stiwarids/autismprediction-eda),\n",
    "    and return the modified dataframe.\n",
    "    \"\"\"\n",
    "    #creating features - AQ10_sum, AQ10_6_or_above\n",
    "    aq_scores = [f'A{i}_Score' for i in range(1, 11)]\n",
    "    df['AQ10_sum'] = df[aq_scores].sum(axis=1)\n",
    "    df['AQ10_6_or_above'] = (df['AQ10_sum'] > 5).astype('int')\n",
    "    \n",
    "    #creating feature - age_group\n",
    "    def create_age_group(age):\n",
    "        \"\"\"Determine age group and return an integer indicating the category.\"\"\"\n",
    "        if age < 13: return 0 #child\n",
    "        elif age < 21: return 1 #adolescent\n",
    "        elif age < 40: return 2 #adult\n",
    "        elif age < 60: return 3 #middle-aged\n",
    "        else: return 4 #elderly\n",
    "        \n",
    "    df['age_group'] = df['age'].apply(create_age_group)\n",
    "    \n",
    "    #creating feature - is_White_European\n",
    "    df['is_White_European'] = (df['ethnicity'] == 'White-European').astype(int)\n",
    "    \n",
    "    #reclassifying column - relation\n",
    "    relation_mapping = {\n",
    "        'Self': 2, \n",
    "        'Parent': 1, 'Relative': 1, \n",
    "        'Others': 0, '?': 0, 'Health care professional': 0\n",
    "    }\n",
    "    df['relation'] = df['relation'].replace(to_replace=relation_mapping)\n",
    "    \n",
    "    #correcting column name - austim -> autism_family\n",
    "    df.rename({'austim': 'autism_family'}, axis=1, inplace=True)\n",
    "    \n",
    "    #integer encoding for 'yes'/'no' categorical columns - jaundice, autism_family\n",
    "    df[['jaundice', 'autism_family']] = df[['jaundice', 'autism_family']].replace(to_replace={'no': 0, 'yes': 1})\n",
    "    \n",
    "    df = df.loc[:, features] #retaining only the selected features\n",
    "    df[cat_features] = df[cat_features].astype('category') #marking the categorical features\n",
    "    return df"
   ]
  },
  {
   "cell_type": "code",
   "execution_count": 6,
   "id": "499a313e",
   "metadata": {
    "execution": {
     "iopub.execute_input": "2022-06-15T22:26:19.034311Z",
     "iopub.status.busy": "2022-06-15T22:26:19.033909Z",
     "iopub.status.idle": "2022-06-15T22:26:19.310966Z",
     "shell.execute_reply": "2022-06-15T22:26:19.310084Z"
    },
    "papermill": {
     "duration": 0.290393,
     "end_time": "2022-06-15T22:26:19.313061",
     "exception": false,
     "start_time": "2022-06-15T22:26:19.022668",
     "status": "completed"
    },
    "tags": []
   },
   "outputs": [
    {
     "data": {
      "text/plain": [
       "0"
      ]
     },
     "execution_count": 6,
     "metadata": {},
     "output_type": "execute_result"
    }
   ],
   "source": [
    "test_index = test.ID #for generating submission file\n",
    "target = train['Class/ASD']\n",
    "\n",
    "train = preprocess_dataset(train)\n",
    "test = preprocess_dataset(test)\n",
    "\n",
    "gc.collect()"
   ]
  },
  {
   "cell_type": "markdown",
   "id": "414a559d",
   "metadata": {
    "papermill": {
     "duration": 0.00975,
     "end_time": "2022-06-15T22:26:19.333054",
     "exception": false,
     "start_time": "2022-06-15T22:26:19.323304",
     "status": "completed"
    },
    "tags": []
   },
   "source": [
    "# Hyperparameter tuning (using Optuna)"
   ]
  },
  {
   "cell_type": "markdown",
   "id": "4c194b3b",
   "metadata": {
    "papermill": {
     "duration": 0.009963,
     "end_time": "2022-06-15T22:26:19.353310",
     "exception": false,
     "start_time": "2022-06-15T22:26:19.343347",
     "status": "completed"
    },
    "tags": []
   },
   "source": [
    "**objective** function"
   ]
  },
  {
   "cell_type": "code",
   "execution_count": 7,
   "id": "2bf522af",
   "metadata": {
    "_kg_hide-input": true,
    "execution": {
     "iopub.execute_input": "2022-06-15T22:26:19.375016Z",
     "iopub.status.busy": "2022-06-15T22:26:19.374655Z",
     "iopub.status.idle": "2022-06-15T22:26:19.391126Z",
     "shell.execute_reply": "2022-06-15T22:26:19.390304Z"
    },
    "papermill": {
     "duration": 0.029316,
     "end_time": "2022-06-15T22:26:19.392673",
     "exception": false,
     "start_time": "2022-06-15T22:26:19.363357",
     "status": "completed"
    },
    "tags": []
   },
   "outputs": [],
   "source": [
    "def objective(\n",
    "        trial: optuna.trial.Trial, \n",
    "        data: Tuple[pd.DataFrame, pd.Series],\n",
    "        base_params: dict,\n",
    "        resampler: Any = None) -> float:\n",
    "    \"\"\"Define hyperparameter search space for trial, evaluate the model\n",
    "    with chosen hyperparameters on data provided, and return the metric\n",
    "    score (ROC-AUC).\n",
    "    \"\"\"\n",
    "    \n",
    "    scores = []\n",
    "    X, y = data\n",
    "    cat_features = list(X.select_dtypes(include='category').columns)\n",
    "    \n",
    "    #Defining hyperparameter search space\n",
    "    param_grid = {\n",
    "        'learning_rate': trial.suggest_float('learning_rate', 0.05, 0.3, step=0.05),\n",
    "        'l2_leaf_reg': trial.suggest_float('l2_leaf_reg', 2, 10, step=0.1),\n",
    "        'depth': trial.suggest_int('depth', 3, 15),\n",
    "        'rsm': trial.suggest_float('rsm', 0.5, 1.0, step=0.05), #colsample_bylevel\n",
    "        'max_ctr_complexity': trial.suggest_int('max_ctr_complexity', 4, 10),\n",
    "        'random_strength': trial.suggest_float('random_strength', 0.2, 5),\n",
    "        'bootstrap_type': trial.suggest_categorical(\n",
    "            'bootstrap_type', ['Bayesian', 'Bernoulli', 'MVS']),\n",
    "    }\n",
    "    #conditional hyperparameters\n",
    "    if param_grid['bootstrap_type'] == 'Bayesian':\n",
    "        param_grid['bagging_temperature'] = trial.suggest_int('bagging_temperature', 0, 10)\n",
    "    else:\n",
    "        param_grid['subsample'] = trial.suggest_float('subsample', 0.5, 1.0)\n",
    "    \n",
    "    #cross-validating for each trial\n",
    "    cv = StratifiedKFold(n_splits=5, shuffle=True, random_state=SEED)\n",
    "    for fold, (train_idx, val_idx) in enumerate(cv.split(X, y)):\n",
    "        xtrain, ytrain = X.loc[train_idx], y.iloc[train_idx]\n",
    "        xval, yval = X.loc[val_idx], y.iloc[val_idx]\n",
    "        if resampler:\n",
    "            #only training folds are resampled to ensure \n",
    "            #realistic evaluation on imbalanced validation fold\n",
    "            xtrain, ytrain = resampler.fit_resample(xtrain, ytrain)\n",
    "        \n",
    "        class_ratio = sum(ytrain == 0) / sum(ytrain == 1)\n",
    "        model = cb.CatBoostClassifier(\n",
    "            **base_params, \n",
    "            **param_grid,\n",
    "            scale_pos_weight=class_ratio) #setting this only after resampling\n",
    "        model.fit(\n",
    "            xtrain, ytrain,\n",
    "            eval_set=[(xval, yval)],\n",
    "            cat_features=cat_features,\n",
    "            early_stopping_rounds=25,\n",
    "            verbose=False)\n",
    "        predicted_probs = model.predict_proba(xval)[:, 1]\n",
    "        scores.append(roc_auc_score(yval, predicted_probs))\n",
    "    \n",
    "    return np.mean(scores)"
   ]
  },
  {
   "cell_type": "markdown",
   "id": "9a48bd66",
   "metadata": {
    "papermill": {
     "duration": 0.005946,
     "end_time": "2022-06-15T22:26:19.405619",
     "exception": false,
     "start_time": "2022-06-15T22:26:19.399673",
     "status": "completed"
    },
    "tags": []
   },
   "source": [
    "**tune_hyperparameters** function"
   ]
  },
  {
   "cell_type": "code",
   "execution_count": 8,
   "id": "dadbd9ca",
   "metadata": {
    "_kg_hide-input": true,
    "execution": {
     "iopub.execute_input": "2022-06-15T22:26:19.419036Z",
     "iopub.status.busy": "2022-06-15T22:26:19.418739Z",
     "iopub.status.idle": "2022-06-15T22:26:19.424333Z",
     "shell.execute_reply": "2022-06-15T22:26:19.423598Z"
    },
    "papermill": {
     "duration": 0.014027,
     "end_time": "2022-06-15T22:26:19.425804",
     "exception": false,
     "start_time": "2022-06-15T22:26:19.411777",
     "status": "completed"
    },
    "tags": []
   },
   "outputs": [],
   "source": [
    "def tune_hyperparameters(\n",
    "        data: Tuple[pd.DataFrame, pd.Series],\n",
    "        base_params: dict,\n",
    "        resampler: Any = None,\n",
    "        n_trials: int = 5,\n",
    "        direction: str = 'maximize') -> optuna.study.Study:\n",
    "    \"\"\"Optimize CatBoost objective function and return dict of best hyperparameters.\"\"\"\n",
    "    \n",
    "    study = optuna.create_study(\n",
    "        sampler=optuna.samplers.TPESampler(seed=SEED),\n",
    "        pruner=optuna.pruners.HyperbandPruner(),\n",
    "        direction=direction)\n",
    "    \n",
    "    study.optimize(\n",
    "        func=lambda trial: objective(trial, data, base_params),\n",
    "        n_trials=n_trials,\n",
    "        gc_after_trial=True)\n",
    "    \n",
    "    return study"
   ]
  },
  {
   "cell_type": "markdown",
   "id": "e0d8636d",
   "metadata": {
    "papermill": {
     "duration": 0.006165,
     "end_time": "2022-06-15T22:26:19.438153",
     "exception": false,
     "start_time": "2022-06-15T22:26:19.431988",
     "status": "completed"
    },
    "tags": []
   },
   "source": [
    "# Cross-validation"
   ]
  },
  {
   "cell_type": "markdown",
   "id": "1271e371",
   "metadata": {
    "papermill": {
     "duration": 0.007374,
     "end_time": "2022-06-15T22:26:19.451783",
     "exception": false,
     "start_time": "2022-06-15T22:26:19.444409",
     "status": "completed"
    },
    "tags": []
   },
   "source": [
    "**evaluate_model** function"
   ]
  },
  {
   "cell_type": "code",
   "execution_count": 9,
   "id": "5e896008",
   "metadata": {
    "_kg_hide-input": true,
    "execution": {
     "iopub.execute_input": "2022-06-15T22:26:19.466925Z",
     "iopub.status.busy": "2022-06-15T22:26:19.466575Z",
     "iopub.status.idle": "2022-06-15T22:26:19.479281Z",
     "shell.execute_reply": "2022-06-15T22:26:19.478496Z"
    },
    "papermill": {
     "duration": 0.021978,
     "end_time": "2022-06-15T22:26:19.480750",
     "exception": false,
     "start_time": "2022-06-15T22:26:19.458772",
     "status": "completed"
    },
    "tags": []
   },
   "outputs": [],
   "source": [
    "def evaluate_model(\n",
    "        data: Tuple[pd.DataFrame, pd.DataFrame, pd.Series],\n",
    "        model_params: dict, \n",
    "        resampler: Any = None,\n",
    "        verbose: bool = True) -> list:\n",
    "    \"\"\"Cross-validate the model and return the predicted probabilities for test-set.\"\"\"\n",
    "    \n",
    "    #scores/predictions for all folds\n",
    "    probs_test = [] #test set predicted probabilities\n",
    "    preds_test = [] #test set predicted classes\n",
    "    scores_auc = [] #validation set AUC scores\n",
    "    scores_f1 = [] #validation set weighted-f1 scores\n",
    "    scores_balacc = [] #validation set balanced accuracy scores\n",
    "    \n",
    "    X, X_test, y = data\n",
    "    cat_features = list(X.select_dtypes(include='category').columns)\n",
    "    \n",
    "    cv = RepeatedStratifiedKFold(n_splits=5, n_repeats=3, random_state=SEED)\n",
    "    for fold, (train_idx, val_idx) in enumerate(cv.split(X, y)):\n",
    "        xtrain, ytrain = X.loc[train_idx], y.iloc[train_idx]\n",
    "        xval, yval = X.loc[val_idx], y.iloc[val_idx]\n",
    "        \n",
    "        if resampler:\n",
    "            #only training folds are resampled to ensure \n",
    "            #realistic evaluation on imbalanced validation fold\n",
    "            xtrain, ytrain = resampler.fit_resample(xtrain, ytrain)\n",
    "        \n",
    "        class_ratio = sum(ytrain == 0) / sum(ytrain == 1)\n",
    "        model = cb.CatBoostClassifier(\n",
    "            **model_params,\n",
    "            scale_pos_weight=class_ratio) #setting this only after resampling\n",
    "        \n",
    "        model.fit(\n",
    "            xtrain, ytrain,\n",
    "            eval_set=[(xval, yval)],\n",
    "            cat_features=cat_features,\n",
    "            verbose=False)\n",
    "        \n",
    "        probs_val = model.predict_proba(xval)[:, 1]\n",
    "        preds_val = model.predict(xval)\n",
    "        probs_test.append(model.predict_proba(X_test)[:, 1])\n",
    "        preds_test.append(model.predict(X_test))\n",
    "        \n",
    "        scores_auc.append(roc_auc_score(yval, probs_val))\n",
    "        scores_f1.append(f1_score(yval, preds_val, average='weighted'))\n",
    "        scores_balacc.append(balanced_accuracy_score(yval, preds_val))\n",
    "    \n",
    "    if verbose:\n",
    "        scores_df = pd.DataFrame.from_dict({\n",
    "            'ROC-AUC': scores_auc,\n",
    "            'Weighted-f1': scores_f1,\n",
    "            'Balanced-accuracy':scores_balacc\n",
    "        })\n",
    "        scores_df.index.name = 'Fold'\n",
    "        display(scores_df.T)\n",
    "    \n",
    "    print(f'Average ROC-AUC = {np.mean(scores_auc):.4f} (with std = {np.std(scores_auc):.4f})')\n",
    "    print(f'Average Weighted-f1 = {np.mean(scores_f1):.4f} (with std = {np.std(scores_f1):.4f})')\n",
    "    print(f'Average Balanced-accuracy = {np.mean(scores_balacc):.4f} (with std = {np.std(scores_balacc):.4f})')\n",
    "    \n",
    "    preds_test = st.mode(np.column_stack(preds_test), axis=1).mode\n",
    "    probs_test = np.mean(np.column_stack(probs_test), axis=1)\n",
    "    \n",
    "    return probs_test #only probabilities needed for competition metric"
   ]
  },
  {
   "cell_type": "markdown",
   "id": "4f242088",
   "metadata": {
    "papermill": {
     "duration": 0.006093,
     "end_time": "2022-06-15T22:26:19.493526",
     "exception": false,
     "start_time": "2022-06-15T22:26:19.487433",
     "status": "completed"
    },
    "tags": []
   },
   "source": [
    "# Experiment = Hyperparameter-tuning + Cross-validation"
   ]
  },
  {
   "cell_type": "code",
   "execution_count": 10,
   "id": "badf9ffe",
   "metadata": {
    "execution": {
     "iopub.execute_input": "2022-06-15T22:26:19.507792Z",
     "iopub.status.busy": "2022-06-15T22:26:19.507226Z",
     "iopub.status.idle": "2022-06-15T22:26:19.517847Z",
     "shell.execute_reply": "2022-06-15T22:26:19.517234Z"
    },
    "papermill": {
     "duration": 0.019689,
     "end_time": "2022-06-15T22:26:19.519418",
     "exception": false,
     "start_time": "2022-06-15T22:26:19.499729",
     "status": "completed"
    },
    "tags": []
   },
   "outputs": [],
   "source": [
    "def run_experiment(\n",
    "        feature_set: list, \n",
    "        resampler: Any = None, \n",
    "        n_trials: int = 5) -> np.ndarray:\n",
    "    \"\"\"Tune the hyperparameters, train and evaluate the model, and return test predictions.\"\"\"\n",
    "    \n",
    "    X = train[feature_set].copy()\n",
    "    X_test = test[feature_set].copy()\n",
    "    y = target.copy()\n",
    "    \n",
    "    base_params = {\n",
    "        'n_estimators': 1000,\n",
    "        'boosting_type': 'Ordered', #since our dataset is small\n",
    "        'loss_function': 'Logloss',\n",
    "        'eval_metric': 'AUC',\n",
    "        'early_stopping_rounds': 25,\n",
    "        'use_best_model': True,\n",
    "        'one_hot_max_size': 2, #one-hot-encoding binary features only\n",
    "        'verbose': False,\n",
    "        'random_seed': SEED\n",
    "    }\n",
    "    \n",
    "    print(f'---------------Hyperparameter tuning---------------')\n",
    "    study = tune_hyperparameters(\n",
    "        data=(X, y), \n",
    "        base_params=base_params,\n",
    "        resampler=resampler,\n",
    "        n_trials=n_trials,\n",
    "        direction='maximize')\n",
    "    print(f'Best trial: {study.best_trial.number} -> Best value (AUC): {study.best_value:.5f}')\n",
    "    print(f'Best hyperparameters:')\n",
    "    for k, v in study.best_params.items():\n",
    "        print(f'{k:20} - {v}')\n",
    "    \n",
    "    model_params = {**base_params, **study.best_params}\n",
    "    print(f'-----------------Cross-validation------------------')\n",
    "    predicted_probs = evaluate_model(\n",
    "        data=(X, X_test, y), \n",
    "        model_params=model_params, \n",
    "        resampler=resampler)\n",
    "    \n",
    "    return predicted_probs"
   ]
  },
  {
   "cell_type": "code",
   "execution_count": 11,
   "id": "cb7e22f4",
   "metadata": {
    "execution": {
     "iopub.execute_input": "2022-06-15T22:26:19.534095Z",
     "iopub.status.busy": "2022-06-15T22:26:19.533587Z",
     "iopub.status.idle": "2022-06-15T22:26:19.536897Z",
     "shell.execute_reply": "2022-06-15T22:26:19.536353Z"
    },
    "papermill": {
     "duration": 0.012378,
     "end_time": "2022-06-15T22:26:19.538306",
     "exception": false,
     "start_time": "2022-06-15T22:26:19.525928",
     "status": "completed"
    },
    "tags": []
   },
   "outputs": [],
   "source": [
    "#test-set predicted probabilities for all experiments\n",
    "predictions_dict = {}"
   ]
  },
  {
   "cell_type": "markdown",
   "id": "0ce435ae",
   "metadata": {
    "papermill": {
     "duration": 0.006059,
     "end_time": "2022-06-15T22:26:19.550598",
     "exception": false,
     "start_time": "2022-06-15T22:26:19.544539",
     "status": "completed"
    },
    "tags": []
   },
   "source": [
    "### Experiment 1: All features, no resampling"
   ]
  },
  {
   "cell_type": "code",
   "execution_count": 12,
   "id": "84afd2c3",
   "metadata": {
    "execution": {
     "iopub.execute_input": "2022-06-15T22:26:19.564491Z",
     "iopub.status.busy": "2022-06-15T22:26:19.563802Z",
     "iopub.status.idle": "2022-06-15T22:31:00.224010Z",
     "shell.execute_reply": "2022-06-15T22:31:00.223163Z"
    },
    "papermill": {
     "duration": 280.668966,
     "end_time": "2022-06-15T22:31:00.225706",
     "exception": false,
     "start_time": "2022-06-15T22:26:19.556740",
     "status": "completed"
    },
    "tags": []
   },
   "outputs": [
    {
     "name": "stdout",
     "output_type": "stream",
     "text": [
      "---------------Hyperparameter tuning---------------\n",
      "Best trial: 10 -> Best value (AUC): 0.92259\n",
      "Best hyperparameters:\n",
      "learning_rate        - 0.15000000000000002\n",
      "l2_leaf_reg          - 3.1\n",
      "depth                - 7\n",
      "rsm                  - 0.5\n",
      "max_ctr_complexity   - 7\n",
      "random_strength      - 2.0455983252981476\n",
      "bootstrap_type       - Bernoulli\n",
      "subsample            - 0.9020836064760344\n",
      "-----------------Cross-validation------------------\n"
     ]
    },
    {
     "data": {
      "text/html": [
       "<div>\n",
       "<style scoped>\n",
       "    .dataframe tbody tr th:only-of-type {\n",
       "        vertical-align: middle;\n",
       "    }\n",
       "\n",
       "    .dataframe tbody tr th {\n",
       "        vertical-align: top;\n",
       "    }\n",
       "\n",
       "    .dataframe thead th {\n",
       "        text-align: right;\n",
       "    }\n",
       "</style>\n",
       "<table border=\"1\" class=\"dataframe\">\n",
       "  <thead>\n",
       "    <tr style=\"text-align: right;\">\n",
       "      <th>Fold</th>\n",
       "      <th>0</th>\n",
       "      <th>1</th>\n",
       "      <th>2</th>\n",
       "      <th>3</th>\n",
       "      <th>4</th>\n",
       "      <th>5</th>\n",
       "      <th>6</th>\n",
       "      <th>7</th>\n",
       "      <th>8</th>\n",
       "      <th>9</th>\n",
       "      <th>10</th>\n",
       "      <th>11</th>\n",
       "      <th>12</th>\n",
       "      <th>13</th>\n",
       "      <th>14</th>\n",
       "    </tr>\n",
       "  </thead>\n",
       "  <tbody>\n",
       "    <tr>\n",
       "      <th>ROC-AUC</th>\n",
       "      <td>0.8682</td>\n",
       "      <td>0.9541</td>\n",
       "      <td>0.9363</td>\n",
       "      <td>0.8988</td>\n",
       "      <td>0.9556</td>\n",
       "      <td>0.9160</td>\n",
       "      <td>0.8889</td>\n",
       "      <td>0.9448</td>\n",
       "      <td>0.9329</td>\n",
       "      <td>0.9320</td>\n",
       "      <td>0.9507</td>\n",
       "      <td>0.8774</td>\n",
       "      <td>0.9161</td>\n",
       "      <td>0.9197</td>\n",
       "      <td>0.9145</td>\n",
       "    </tr>\n",
       "    <tr>\n",
       "      <th>Weighted-f1</th>\n",
       "      <td>0.8197</td>\n",
       "      <td>0.8771</td>\n",
       "      <td>0.8127</td>\n",
       "      <td>0.8047</td>\n",
       "      <td>0.8501</td>\n",
       "      <td>0.8176</td>\n",
       "      <td>0.8055</td>\n",
       "      <td>0.8392</td>\n",
       "      <td>0.8492</td>\n",
       "      <td>0.8392</td>\n",
       "      <td>0.8506</td>\n",
       "      <td>0.8153</td>\n",
       "      <td>0.8269</td>\n",
       "      <td>0.8554</td>\n",
       "      <td>0.8119</td>\n",
       "    </tr>\n",
       "    <tr>\n",
       "      <th>Balanced-accuracy</th>\n",
       "      <td>0.7969</td>\n",
       "      <td>0.8828</td>\n",
       "      <td>0.8477</td>\n",
       "      <td>0.7969</td>\n",
       "      <td>0.8752</td>\n",
       "      <td>0.8398</td>\n",
       "      <td>0.8086</td>\n",
       "      <td>0.8555</td>\n",
       "      <td>0.8516</td>\n",
       "      <td>0.8673</td>\n",
       "      <td>0.8750</td>\n",
       "      <td>0.8047</td>\n",
       "      <td>0.8242</td>\n",
       "      <td>0.8672</td>\n",
       "      <td>0.8476</td>\n",
       "    </tr>\n",
       "  </tbody>\n",
       "</table>\n",
       "</div>"
      ],
      "text/plain": [
       "Fold                   0       1       2       3       4       5       6   \\\n",
       "ROC-AUC            0.8682  0.9541  0.9363  0.8988  0.9556  0.9160  0.8889   \n",
       "Weighted-f1        0.8197  0.8771  0.8127  0.8047  0.8501  0.8176  0.8055   \n",
       "Balanced-accuracy  0.7969  0.8828  0.8477  0.7969  0.8752  0.8398  0.8086   \n",
       "\n",
       "Fold                   7       8       9       10      11      12      13  \\\n",
       "ROC-AUC            0.9448  0.9329  0.9320  0.9507  0.8774  0.9161  0.9197   \n",
       "Weighted-f1        0.8392  0.8492  0.8392  0.8506  0.8153  0.8269  0.8554   \n",
       "Balanced-accuracy  0.8555  0.8516  0.8673  0.8750  0.8047  0.8242  0.8672   \n",
       "\n",
       "Fold                   14  \n",
       "ROC-AUC            0.9145  \n",
       "Weighted-f1        0.8119  \n",
       "Balanced-accuracy  0.8476  "
      ]
     },
     "metadata": {},
     "output_type": "display_data"
    },
    {
     "name": "stdout",
     "output_type": "stream",
     "text": [
      "Average ROC-AUC = 0.9204 (with std = 0.0265)\n",
      "Average Weighted-f1 = 0.8317 (with std = 0.0209)\n",
      "Average Balanced-accuracy = 0.8427 (with std = 0.0287)\n",
      "CPU times: user 9min 32s, sys: 1min 35s, total: 11min 7s\n",
      "Wall time: 4min 40s\n"
     ]
    }
   ],
   "source": [
    "%%time\n",
    "predictions_dict[1] = run_experiment(feature_set=features, n_trials=50)"
   ]
  },
  {
   "cell_type": "markdown",
   "id": "8ef5eaa0",
   "metadata": {
    "papermill": {
     "duration": 0.006464,
     "end_time": "2022-06-15T22:31:00.239104",
     "exception": false,
     "start_time": "2022-06-15T22:31:00.232640",
     "status": "completed"
    },
    "tags": []
   },
   "source": [
    "### Experiment 2: Best features, no resampling"
   ]
  },
  {
   "cell_type": "code",
   "execution_count": 13,
   "id": "e9ebbe93",
   "metadata": {
    "execution": {
     "iopub.execute_input": "2022-06-15T22:31:00.254207Z",
     "iopub.status.busy": "2022-06-15T22:31:00.253432Z",
     "iopub.status.idle": "2022-06-15T22:34:48.519524Z",
     "shell.execute_reply": "2022-06-15T22:34:48.518461Z"
    },
    "papermill": {
     "duration": 228.275834,
     "end_time": "2022-06-15T22:34:48.521520",
     "exception": false,
     "start_time": "2022-06-15T22:31:00.245686",
     "status": "completed"
    },
    "tags": []
   },
   "outputs": [
    {
     "name": "stdout",
     "output_type": "stream",
     "text": [
      "---------------Hyperparameter tuning---------------\n",
      "Best trial: 10 -> Best value (AUC): 0.92043\n",
      "Best hyperparameters:\n",
      "learning_rate        - 0.15000000000000002\n",
      "l2_leaf_reg          - 3.1\n",
      "depth                - 7\n",
      "rsm                  - 0.5\n",
      "max_ctr_complexity   - 7\n",
      "random_strength      - 2.0455983252981476\n",
      "bootstrap_type       - Bernoulli\n",
      "subsample            - 0.9020836064760344\n",
      "-----------------Cross-validation------------------\n"
     ]
    },
    {
     "data": {
      "text/html": [
       "<div>\n",
       "<style scoped>\n",
       "    .dataframe tbody tr th:only-of-type {\n",
       "        vertical-align: middle;\n",
       "    }\n",
       "\n",
       "    .dataframe tbody tr th {\n",
       "        vertical-align: top;\n",
       "    }\n",
       "\n",
       "    .dataframe thead th {\n",
       "        text-align: right;\n",
       "    }\n",
       "</style>\n",
       "<table border=\"1\" class=\"dataframe\">\n",
       "  <thead>\n",
       "    <tr style=\"text-align: right;\">\n",
       "      <th>Fold</th>\n",
       "      <th>0</th>\n",
       "      <th>1</th>\n",
       "      <th>2</th>\n",
       "      <th>3</th>\n",
       "      <th>4</th>\n",
       "      <th>5</th>\n",
       "      <th>6</th>\n",
       "      <th>7</th>\n",
       "      <th>8</th>\n",
       "      <th>9</th>\n",
       "      <th>10</th>\n",
       "      <th>11</th>\n",
       "      <th>12</th>\n",
       "      <th>13</th>\n",
       "      <th>14</th>\n",
       "    </tr>\n",
       "  </thead>\n",
       "  <tbody>\n",
       "    <tr>\n",
       "      <th>ROC-AUC</th>\n",
       "      <td>0.8766</td>\n",
       "      <td>0.9457</td>\n",
       "      <td>0.9218</td>\n",
       "      <td>0.9104</td>\n",
       "      <td>0.9477</td>\n",
       "      <td>0.9015</td>\n",
       "      <td>0.8931</td>\n",
       "      <td>0.9375</td>\n",
       "      <td>0.9204</td>\n",
       "      <td>0.9221</td>\n",
       "      <td>0.9412</td>\n",
       "      <td>0.8839</td>\n",
       "      <td>0.9100</td>\n",
       "      <td>0.9261</td>\n",
       "      <td>0.9189</td>\n",
       "    </tr>\n",
       "    <tr>\n",
       "      <th>Weighted-f1</th>\n",
       "      <td>0.8153</td>\n",
       "      <td>0.8717</td>\n",
       "      <td>0.8186</td>\n",
       "      <td>0.8162</td>\n",
       "      <td>0.8768</td>\n",
       "      <td>0.8338</td>\n",
       "      <td>0.8162</td>\n",
       "      <td>0.8608</td>\n",
       "      <td>0.8528</td>\n",
       "      <td>0.8331</td>\n",
       "      <td>0.8561</td>\n",
       "      <td>0.8223</td>\n",
       "      <td>0.8376</td>\n",
       "      <td>0.8608</td>\n",
       "      <td>0.8223</td>\n",
       "    </tr>\n",
       "    <tr>\n",
       "      <th>Balanced-accuracy</th>\n",
       "      <td>0.8047</td>\n",
       "      <td>0.8789</td>\n",
       "      <td>0.8633</td>\n",
       "      <td>0.8164</td>\n",
       "      <td>0.8837</td>\n",
       "      <td>0.8516</td>\n",
       "      <td>0.8164</td>\n",
       "      <td>0.8711</td>\n",
       "      <td>0.8320</td>\n",
       "      <td>0.8522</td>\n",
       "      <td>0.8789</td>\n",
       "      <td>0.8320</td>\n",
       "      <td>0.8320</td>\n",
       "      <td>0.8711</td>\n",
       "      <td>0.8443</td>\n",
       "    </tr>\n",
       "  </tbody>\n",
       "</table>\n",
       "</div>"
      ],
      "text/plain": [
       "Fold                   0       1       2       3       4       5       6   \\\n",
       "ROC-AUC            0.8766  0.9457  0.9218  0.9104  0.9477  0.9015  0.8931   \n",
       "Weighted-f1        0.8153  0.8717  0.8186  0.8162  0.8768  0.8338  0.8162   \n",
       "Balanced-accuracy  0.8047  0.8789  0.8633  0.8164  0.8837  0.8516  0.8164   \n",
       "\n",
       "Fold                   7       8       9       10      11      12      13  \\\n",
       "ROC-AUC            0.9375  0.9204  0.9221  0.9412  0.8839  0.9100  0.9261   \n",
       "Weighted-f1        0.8608  0.8528  0.8331  0.8561  0.8223  0.8376  0.8608   \n",
       "Balanced-accuracy  0.8711  0.8320  0.8522  0.8789  0.8320  0.8320  0.8711   \n",
       "\n",
       "Fold                   14  \n",
       "ROC-AUC            0.9189  \n",
       "Weighted-f1        0.8223  \n",
       "Balanced-accuracy  0.8443  "
      ]
     },
     "metadata": {},
     "output_type": "display_data"
    },
    {
     "name": "stdout",
     "output_type": "stream",
     "text": [
      "Average ROC-AUC = 0.9171 (with std = 0.0209)\n",
      "Average Weighted-f1 = 0.8396 (with std = 0.0209)\n",
      "Average Balanced-accuracy = 0.8486 (with std = 0.0247)\n",
      "CPU times: user 5min 20s, sys: 58.5 s, total: 6min 18s\n",
      "Wall time: 3min 48s\n"
     ]
    }
   ],
   "source": [
    "%%time\n",
    "predictions_dict[2] = run_experiment(feature_set=best_features, n_trials=50)"
   ]
  },
  {
   "cell_type": "markdown",
   "id": "dcb6bb98",
   "metadata": {
    "papermill": {
     "duration": 0.007296,
     "end_time": "2022-06-15T22:34:48.536661",
     "exception": false,
     "start_time": "2022-06-15T22:34:48.529365",
     "status": "completed"
    },
    "tags": []
   },
   "source": [
    "### Experiment 3: All features, RandomOverSampler"
   ]
  },
  {
   "cell_type": "code",
   "execution_count": 14,
   "id": "9b006f4f",
   "metadata": {
    "execution": {
     "iopub.execute_input": "2022-06-15T22:34:48.552375Z",
     "iopub.status.busy": "2022-06-15T22:34:48.551902Z",
     "iopub.status.idle": "2022-06-15T22:39:29.535754Z",
     "shell.execute_reply": "2022-06-15T22:39:29.534825Z"
    },
    "papermill": {
     "duration": 280.994009,
     "end_time": "2022-06-15T22:39:29.537699",
     "exception": false,
     "start_time": "2022-06-15T22:34:48.543690",
     "status": "completed"
    },
    "tags": []
   },
   "outputs": [
    {
     "name": "stdout",
     "output_type": "stream",
     "text": [
      "---------------Hyperparameter tuning---------------\n",
      "Best trial: 10 -> Best value (AUC): 0.92259\n",
      "Best hyperparameters:\n",
      "learning_rate        - 0.15000000000000002\n",
      "l2_leaf_reg          - 3.1\n",
      "depth                - 7\n",
      "rsm                  - 0.5\n",
      "max_ctr_complexity   - 7\n",
      "random_strength      - 2.0455983252981476\n",
      "bootstrap_type       - Bernoulli\n",
      "subsample            - 0.9020836064760344\n",
      "-----------------Cross-validation------------------\n"
     ]
    },
    {
     "data": {
      "text/html": [
       "<div>\n",
       "<style scoped>\n",
       "    .dataframe tbody tr th:only-of-type {\n",
       "        vertical-align: middle;\n",
       "    }\n",
       "\n",
       "    .dataframe tbody tr th {\n",
       "        vertical-align: top;\n",
       "    }\n",
       "\n",
       "    .dataframe thead th {\n",
       "        text-align: right;\n",
       "    }\n",
       "</style>\n",
       "<table border=\"1\" class=\"dataframe\">\n",
       "  <thead>\n",
       "    <tr style=\"text-align: right;\">\n",
       "      <th>Fold</th>\n",
       "      <th>0</th>\n",
       "      <th>1</th>\n",
       "      <th>2</th>\n",
       "      <th>3</th>\n",
       "      <th>4</th>\n",
       "      <th>5</th>\n",
       "      <th>6</th>\n",
       "      <th>7</th>\n",
       "      <th>8</th>\n",
       "      <th>9</th>\n",
       "      <th>10</th>\n",
       "      <th>11</th>\n",
       "      <th>12</th>\n",
       "      <th>13</th>\n",
       "      <th>14</th>\n",
       "    </tr>\n",
       "  </thead>\n",
       "  <tbody>\n",
       "    <tr>\n",
       "      <th>ROC-AUC</th>\n",
       "      <td>0.8684</td>\n",
       "      <td>0.9452</td>\n",
       "      <td>0.9274</td>\n",
       "      <td>0.8861</td>\n",
       "      <td>0.9469</td>\n",
       "      <td>0.8988</td>\n",
       "      <td>0.8916</td>\n",
       "      <td>0.9135</td>\n",
       "      <td>0.9348</td>\n",
       "      <td>0.9147</td>\n",
       "      <td>0.9431</td>\n",
       "      <td>0.8933</td>\n",
       "      <td>0.9191</td>\n",
       "      <td>0.9197</td>\n",
       "      <td>0.9290</td>\n",
       "    </tr>\n",
       "    <tr>\n",
       "      <th>Weighted-f1</th>\n",
       "      <td>0.8028</td>\n",
       "      <td>0.8669</td>\n",
       "      <td>0.8122</td>\n",
       "      <td>0.7940</td>\n",
       "      <td>0.8830</td>\n",
       "      <td>0.8169</td>\n",
       "      <td>0.7994</td>\n",
       "      <td>0.8338</td>\n",
       "      <td>0.8537</td>\n",
       "      <td>0.8588</td>\n",
       "      <td>0.8500</td>\n",
       "      <td>0.8277</td>\n",
       "      <td>0.8055</td>\n",
       "      <td>0.8500</td>\n",
       "      <td>0.8392</td>\n",
       "    </tr>\n",
       "    <tr>\n",
       "      <th>Balanced-accuracy</th>\n",
       "      <td>0.7734</td>\n",
       "      <td>0.8867</td>\n",
       "      <td>0.8359</td>\n",
       "      <td>0.7891</td>\n",
       "      <td>0.8988</td>\n",
       "      <td>0.8281</td>\n",
       "      <td>0.7930</td>\n",
       "      <td>0.8516</td>\n",
       "      <td>0.8438</td>\n",
       "      <td>0.8494</td>\n",
       "      <td>0.8633</td>\n",
       "      <td>0.8359</td>\n",
       "      <td>0.8086</td>\n",
       "      <td>0.8633</td>\n",
       "      <td>0.8673</td>\n",
       "    </tr>\n",
       "  </tbody>\n",
       "</table>\n",
       "</div>"
      ],
      "text/plain": [
       "Fold                   0       1       2       3       4       5       6   \\\n",
       "ROC-AUC            0.8684  0.9452  0.9274  0.8861  0.9469  0.8988  0.8916   \n",
       "Weighted-f1        0.8028  0.8669  0.8122  0.7940  0.8830  0.8169  0.7994   \n",
       "Balanced-accuracy  0.7734  0.8867  0.8359  0.7891  0.8988  0.8281  0.7930   \n",
       "\n",
       "Fold                   7       8       9       10      11      12      13  \\\n",
       "ROC-AUC            0.9135  0.9348  0.9147  0.9431  0.8933  0.9191  0.9197   \n",
       "Weighted-f1        0.8338  0.8537  0.8588  0.8500  0.8277  0.8055  0.8500   \n",
       "Balanced-accuracy  0.8516  0.8438  0.8494  0.8633  0.8359  0.8086  0.8633   \n",
       "\n",
       "Fold                   14  \n",
       "ROC-AUC            0.9290  \n",
       "Weighted-f1        0.8392  \n",
       "Balanced-accuracy  0.8673  "
      ]
     },
     "metadata": {},
     "output_type": "display_data"
    },
    {
     "name": "stdout",
     "output_type": "stream",
     "text": [
      "Average ROC-AUC = 0.9154 (with std = 0.0228)\n",
      "Average Weighted-f1 = 0.8329 (with std = 0.0263)\n",
      "Average Balanced-accuracy = 0.8392 (with std = 0.0347)\n",
      "CPU times: user 9min 32s, sys: 1min 36s, total: 11min 8s\n",
      "Wall time: 4min 40s\n"
     ]
    }
   ],
   "source": [
    "%%time\n",
    "ros = RandomOverSampler(random_state=SEED)\n",
    "predictions_dict[3] = run_experiment(feature_set=features, resampler=ros, n_trials=50)"
   ]
  },
  {
   "cell_type": "markdown",
   "id": "48d5881a",
   "metadata": {
    "papermill": {
     "duration": 0.007288,
     "end_time": "2022-06-15T22:39:29.553015",
     "exception": false,
     "start_time": "2022-06-15T22:39:29.545727",
     "status": "completed"
    },
    "tags": []
   },
   "source": [
    "### Experiment 4: Best features, RandomOverSampler"
   ]
  },
  {
   "cell_type": "code",
   "execution_count": 15,
   "id": "46381841",
   "metadata": {
    "execution": {
     "iopub.execute_input": "2022-06-15T22:39:29.569247Z",
     "iopub.status.busy": "2022-06-15T22:39:29.568659Z",
     "iopub.status.idle": "2022-06-15T22:43:19.405687Z",
     "shell.execute_reply": "2022-06-15T22:43:19.404361Z"
    },
    "papermill": {
     "duration": 229.847453,
     "end_time": "2022-06-15T22:43:19.407795",
     "exception": false,
     "start_time": "2022-06-15T22:39:29.560342",
     "status": "completed"
    },
    "tags": []
   },
   "outputs": [
    {
     "name": "stdout",
     "output_type": "stream",
     "text": [
      "---------------Hyperparameter tuning---------------\n",
      "Best trial: 10 -> Best value (AUC): 0.92043\n",
      "Best hyperparameters:\n",
      "learning_rate        - 0.15000000000000002\n",
      "l2_leaf_reg          - 3.1\n",
      "depth                - 7\n",
      "rsm                  - 0.5\n",
      "max_ctr_complexity   - 7\n",
      "random_strength      - 2.0455983252981476\n",
      "bootstrap_type       - Bernoulli\n",
      "subsample            - 0.9020836064760344\n",
      "-----------------Cross-validation------------------\n"
     ]
    },
    {
     "data": {
      "text/html": [
       "<div>\n",
       "<style scoped>\n",
       "    .dataframe tbody tr th:only-of-type {\n",
       "        vertical-align: middle;\n",
       "    }\n",
       "\n",
       "    .dataframe tbody tr th {\n",
       "        vertical-align: top;\n",
       "    }\n",
       "\n",
       "    .dataframe thead th {\n",
       "        text-align: right;\n",
       "    }\n",
       "</style>\n",
       "<table border=\"1\" class=\"dataframe\">\n",
       "  <thead>\n",
       "    <tr style=\"text-align: right;\">\n",
       "      <th>Fold</th>\n",
       "      <th>0</th>\n",
       "      <th>1</th>\n",
       "      <th>2</th>\n",
       "      <th>3</th>\n",
       "      <th>4</th>\n",
       "      <th>5</th>\n",
       "      <th>6</th>\n",
       "      <th>7</th>\n",
       "      <th>8</th>\n",
       "      <th>9</th>\n",
       "      <th>10</th>\n",
       "      <th>11</th>\n",
       "      <th>12</th>\n",
       "      <th>13</th>\n",
       "      <th>14</th>\n",
       "    </tr>\n",
       "  </thead>\n",
       "  <tbody>\n",
       "    <tr>\n",
       "      <th>ROC-AUC</th>\n",
       "      <td>0.8617</td>\n",
       "      <td>0.9342</td>\n",
       "      <td>0.9021</td>\n",
       "      <td>0.8969</td>\n",
       "      <td>0.9427</td>\n",
       "      <td>0.9186</td>\n",
       "      <td>0.9009</td>\n",
       "      <td>0.9319</td>\n",
       "      <td>0.9255</td>\n",
       "      <td>0.9194</td>\n",
       "      <td>0.9233</td>\n",
       "      <td>0.8661</td>\n",
       "      <td>0.9197</td>\n",
       "      <td>0.9202</td>\n",
       "      <td>0.9194</td>\n",
       "    </tr>\n",
       "    <tr>\n",
       "      <th>Weighted-f1</th>\n",
       "      <td>0.8081</td>\n",
       "      <td>0.8546</td>\n",
       "      <td>0.8186</td>\n",
       "      <td>0.8100</td>\n",
       "      <td>0.8705</td>\n",
       "      <td>0.8116</td>\n",
       "      <td>0.8100</td>\n",
       "      <td>0.8492</td>\n",
       "      <td>0.8517</td>\n",
       "      <td>0.8797</td>\n",
       "      <td>0.8474</td>\n",
       "      <td>0.8081</td>\n",
       "      <td>0.8260</td>\n",
       "      <td>0.8420</td>\n",
       "      <td>0.8060</td>\n",
       "    </tr>\n",
       "    <tr>\n",
       "      <th>Balanced-accuracy</th>\n",
       "      <td>0.7773</td>\n",
       "      <td>0.8555</td>\n",
       "      <td>0.7852</td>\n",
       "      <td>0.8008</td>\n",
       "      <td>0.8685</td>\n",
       "      <td>0.8242</td>\n",
       "      <td>0.8008</td>\n",
       "      <td>0.8516</td>\n",
       "      <td>0.8203</td>\n",
       "      <td>0.8540</td>\n",
       "      <td>0.8281</td>\n",
       "      <td>0.7773</td>\n",
       "      <td>0.8125</td>\n",
       "      <td>0.8242</td>\n",
       "      <td>0.8325</td>\n",
       "    </tr>\n",
       "  </tbody>\n",
       "</table>\n",
       "</div>"
      ],
      "text/plain": [
       "Fold                   0       1       2       3       4       5       6   \\\n",
       "ROC-AUC            0.8617  0.9342  0.9021  0.8969  0.9427  0.9186  0.9009   \n",
       "Weighted-f1        0.8081  0.8546  0.8186  0.8100  0.8705  0.8116  0.8100   \n",
       "Balanced-accuracy  0.7773  0.8555  0.7852  0.8008  0.8685  0.8242  0.8008   \n",
       "\n",
       "Fold                   7       8       9       10      11      12      13  \\\n",
       "ROC-AUC            0.9319  0.9255  0.9194  0.9233  0.8661  0.9197  0.9202   \n",
       "Weighted-f1        0.8492  0.8517  0.8797  0.8474  0.8081  0.8260  0.8420   \n",
       "Balanced-accuracy  0.8516  0.8203  0.8540  0.8281  0.7773  0.8125  0.8242   \n",
       "\n",
       "Fold                   14  \n",
       "ROC-AUC            0.9194  \n",
       "Weighted-f1        0.8060  \n",
       "Balanced-accuracy  0.8325  "
      ]
     },
     "metadata": {},
     "output_type": "display_data"
    },
    {
     "name": "stdout",
     "output_type": "stream",
     "text": [
      "Average ROC-AUC = 0.9122 (with std = 0.0224)\n",
      "Average Weighted-f1 = 0.8329 (with std = 0.0241)\n",
      "Average Balanced-accuracy = 0.8209 (with std = 0.0279)\n",
      "CPU times: user 5min 24s, sys: 59 s, total: 6min 23s\n",
      "Wall time: 3min 49s\n"
     ]
    }
   ],
   "source": [
    "%%time\n",
    "predictions_dict[4] = run_experiment(feature_set=best_features, resampler=ros, n_trials=50)"
   ]
  },
  {
   "cell_type": "markdown",
   "id": "6037d81d",
   "metadata": {
    "papermill": {
     "duration": 0.007578,
     "end_time": "2022-06-15T22:43:19.423973",
     "exception": false,
     "start_time": "2022-06-15T22:43:19.416395",
     "status": "completed"
    },
    "tags": []
   },
   "source": [
    "### Experiment 5: All features, RandomUnderSampler"
   ]
  },
  {
   "cell_type": "code",
   "execution_count": 16,
   "id": "23e60dba",
   "metadata": {
    "execution": {
     "iopub.execute_input": "2022-06-15T22:43:19.440931Z",
     "iopub.status.busy": "2022-06-15T22:43:19.440509Z",
     "iopub.status.idle": "2022-06-15T22:48:00.861722Z",
     "shell.execute_reply": "2022-06-15T22:48:00.860626Z"
    },
    "papermill": {
     "duration": 281.432172,
     "end_time": "2022-06-15T22:48:00.863967",
     "exception": false,
     "start_time": "2022-06-15T22:43:19.431795",
     "status": "completed"
    },
    "tags": []
   },
   "outputs": [
    {
     "name": "stdout",
     "output_type": "stream",
     "text": [
      "---------------Hyperparameter tuning---------------\n",
      "Best trial: 10 -> Best value (AUC): 0.92259\n",
      "Best hyperparameters:\n",
      "learning_rate        - 0.15000000000000002\n",
      "l2_leaf_reg          - 3.1\n",
      "depth                - 7\n",
      "rsm                  - 0.5\n",
      "max_ctr_complexity   - 7\n",
      "random_strength      - 2.0455983252981476\n",
      "bootstrap_type       - Bernoulli\n",
      "subsample            - 0.9020836064760344\n",
      "-----------------Cross-validation------------------\n"
     ]
    },
    {
     "data": {
      "text/html": [
       "<div>\n",
       "<style scoped>\n",
       "    .dataframe tbody tr th:only-of-type {\n",
       "        vertical-align: middle;\n",
       "    }\n",
       "\n",
       "    .dataframe tbody tr th {\n",
       "        vertical-align: top;\n",
       "    }\n",
       "\n",
       "    .dataframe thead th {\n",
       "        text-align: right;\n",
       "    }\n",
       "</style>\n",
       "<table border=\"1\" class=\"dataframe\">\n",
       "  <thead>\n",
       "    <tr style=\"text-align: right;\">\n",
       "      <th>Fold</th>\n",
       "      <th>0</th>\n",
       "      <th>1</th>\n",
       "      <th>2</th>\n",
       "      <th>3</th>\n",
       "      <th>4</th>\n",
       "      <th>5</th>\n",
       "      <th>6</th>\n",
       "      <th>7</th>\n",
       "      <th>8</th>\n",
       "      <th>9</th>\n",
       "      <th>10</th>\n",
       "      <th>11</th>\n",
       "      <th>12</th>\n",
       "      <th>13</th>\n",
       "      <th>14</th>\n",
       "    </tr>\n",
       "  </thead>\n",
       "  <tbody>\n",
       "    <tr>\n",
       "      <th>ROC-AUC</th>\n",
       "      <td>0.8654</td>\n",
       "      <td>0.9465</td>\n",
       "      <td>0.9011</td>\n",
       "      <td>0.8845</td>\n",
       "      <td>0.9516</td>\n",
       "      <td>0.8948</td>\n",
       "      <td>0.8801</td>\n",
       "      <td>0.9351</td>\n",
       "      <td>0.9238</td>\n",
       "      <td>0.9269</td>\n",
       "      <td>0.9482</td>\n",
       "      <td>0.8650</td>\n",
       "      <td>0.9102</td>\n",
       "      <td>0.9232</td>\n",
       "      <td>0.9143</td>\n",
       "    </tr>\n",
       "    <tr>\n",
       "      <th>Weighted-f1</th>\n",
       "      <td>0.8100</td>\n",
       "      <td>0.8398</td>\n",
       "      <td>0.7910</td>\n",
       "      <td>0.8001</td>\n",
       "      <td>0.8836</td>\n",
       "      <td>0.8376</td>\n",
       "      <td>0.8269</td>\n",
       "      <td>0.8290</td>\n",
       "      <td>0.8500</td>\n",
       "      <td>0.8392</td>\n",
       "      <td>0.8182</td>\n",
       "      <td>0.8038</td>\n",
       "      <td>0.8176</td>\n",
       "      <td>0.8561</td>\n",
       "      <td>0.8060</td>\n",
       "    </tr>\n",
       "    <tr>\n",
       "      <th>Balanced-accuracy</th>\n",
       "      <td>0.8008</td>\n",
       "      <td>0.8672</td>\n",
       "      <td>0.8320</td>\n",
       "      <td>0.8047</td>\n",
       "      <td>0.9100</td>\n",
       "      <td>0.8320</td>\n",
       "      <td>0.8242</td>\n",
       "      <td>0.8594</td>\n",
       "      <td>0.8633</td>\n",
       "      <td>0.8673</td>\n",
       "      <td>0.8516</td>\n",
       "      <td>0.7852</td>\n",
       "      <td>0.8398</td>\n",
       "      <td>0.8789</td>\n",
       "      <td>0.8325</td>\n",
       "    </tr>\n",
       "  </tbody>\n",
       "</table>\n",
       "</div>"
      ],
      "text/plain": [
       "Fold                   0       1       2       3       4       5       6   \\\n",
       "ROC-AUC            0.8654  0.9465  0.9011  0.8845  0.9516  0.8948  0.8801   \n",
       "Weighted-f1        0.8100  0.8398  0.7910  0.8001  0.8836  0.8376  0.8269   \n",
       "Balanced-accuracy  0.8008  0.8672  0.8320  0.8047  0.9100  0.8320  0.8242   \n",
       "\n",
       "Fold                   7       8       9       10      11      12      13  \\\n",
       "ROC-AUC            0.9351  0.9238  0.9269  0.9482  0.8650  0.9102  0.9232   \n",
       "Weighted-f1        0.8290  0.8500  0.8392  0.8182  0.8038  0.8176  0.8561   \n",
       "Balanced-accuracy  0.8594  0.8633  0.8673  0.8516  0.7852  0.8398  0.8789   \n",
       "\n",
       "Fold                   14  \n",
       "ROC-AUC            0.9143  \n",
       "Weighted-f1        0.8060  \n",
       "Balanced-accuracy  0.8325  "
      ]
     },
     "metadata": {},
     "output_type": "display_data"
    },
    {
     "name": "stdout",
     "output_type": "stream",
     "text": [
      "Average ROC-AUC = 0.9114 (with std = 0.0279)\n",
      "Average Weighted-f1 = 0.8273 (with std = 0.0238)\n",
      "Average Balanced-accuracy = 0.8433 (with std = 0.0316)\n",
      "CPU times: user 9min 33s, sys: 1min 36s, total: 11min 10s\n",
      "Wall time: 4min 41s\n"
     ]
    }
   ],
   "source": [
    "%%time\n",
    "rus = RandomUnderSampler(random_state=SEED)\n",
    "predictions_dict[5] = run_experiment(feature_set=features, resampler=rus, n_trials=50)"
   ]
  },
  {
   "cell_type": "markdown",
   "id": "3b4fb2fd",
   "metadata": {
    "papermill": {
     "duration": 0.008719,
     "end_time": "2022-06-15T22:48:00.881501",
     "exception": false,
     "start_time": "2022-06-15T22:48:00.872782",
     "status": "completed"
    },
    "tags": []
   },
   "source": [
    "### Experiment 6: Best features, RandomUnderSampler"
   ]
  },
  {
   "cell_type": "code",
   "execution_count": 17,
   "id": "ed6db63b",
   "metadata": {
    "execution": {
     "iopub.execute_input": "2022-06-15T22:48:00.899920Z",
     "iopub.status.busy": "2022-06-15T22:48:00.899474Z",
     "iopub.status.idle": "2022-06-15T22:51:52.028261Z",
     "shell.execute_reply": "2022-06-15T22:51:52.027393Z"
    },
    "papermill": {
     "duration": 231.140612,
     "end_time": "2022-06-15T22:51:52.030439",
     "exception": false,
     "start_time": "2022-06-15T22:48:00.889827",
     "status": "completed"
    },
    "tags": []
   },
   "outputs": [
    {
     "name": "stdout",
     "output_type": "stream",
     "text": [
      "---------------Hyperparameter tuning---------------\n",
      "Best trial: 10 -> Best value (AUC): 0.92043\n",
      "Best hyperparameters:\n",
      "learning_rate        - 0.15000000000000002\n",
      "l2_leaf_reg          - 3.1\n",
      "depth                - 7\n",
      "rsm                  - 0.5\n",
      "max_ctr_complexity   - 7\n",
      "random_strength      - 2.0455983252981476\n",
      "bootstrap_type       - Bernoulli\n",
      "subsample            - 0.9020836064760344\n",
      "-----------------Cross-validation------------------\n"
     ]
    },
    {
     "data": {
      "text/html": [
       "<div>\n",
       "<style scoped>\n",
       "    .dataframe tbody tr th:only-of-type {\n",
       "        vertical-align: middle;\n",
       "    }\n",
       "\n",
       "    .dataframe tbody tr th {\n",
       "        vertical-align: top;\n",
       "    }\n",
       "\n",
       "    .dataframe thead th {\n",
       "        text-align: right;\n",
       "    }\n",
       "</style>\n",
       "<table border=\"1\" class=\"dataframe\">\n",
       "  <thead>\n",
       "    <tr style=\"text-align: right;\">\n",
       "      <th>Fold</th>\n",
       "      <th>0</th>\n",
       "      <th>1</th>\n",
       "      <th>2</th>\n",
       "      <th>3</th>\n",
       "      <th>4</th>\n",
       "      <th>5</th>\n",
       "      <th>6</th>\n",
       "      <th>7</th>\n",
       "      <th>8</th>\n",
       "      <th>9</th>\n",
       "      <th>10</th>\n",
       "      <th>11</th>\n",
       "      <th>12</th>\n",
       "      <th>13</th>\n",
       "      <th>14</th>\n",
       "    </tr>\n",
       "  </thead>\n",
       "  <tbody>\n",
       "    <tr>\n",
       "      <th>ROC-AUC</th>\n",
       "      <td>0.8595</td>\n",
       "      <td>0.9471</td>\n",
       "      <td>0.9010</td>\n",
       "      <td>0.8750</td>\n",
       "      <td>0.9437</td>\n",
       "      <td>0.9033</td>\n",
       "      <td>0.8821</td>\n",
       "      <td>0.9280</td>\n",
       "      <td>0.9264</td>\n",
       "      <td>0.9223</td>\n",
       "      <td>0.9445</td>\n",
       "      <td>0.8683</td>\n",
       "      <td>0.9081</td>\n",
       "      <td>0.9081</td>\n",
       "      <td>0.9241</td>\n",
       "    </tr>\n",
       "    <tr>\n",
       "      <th>Weighted-f1</th>\n",
       "      <td>0.8153</td>\n",
       "      <td>0.8392</td>\n",
       "      <td>0.7960</td>\n",
       "      <td>0.8055</td>\n",
       "      <td>0.8720</td>\n",
       "      <td>0.8223</td>\n",
       "      <td>0.7985</td>\n",
       "      <td>0.8284</td>\n",
       "      <td>0.8284</td>\n",
       "      <td>0.8386</td>\n",
       "      <td>0.8176</td>\n",
       "      <td>0.8055</td>\n",
       "      <td>0.7954</td>\n",
       "      <td>0.8506</td>\n",
       "      <td>0.7903</td>\n",
       "    </tr>\n",
       "    <tr>\n",
       "      <th>Balanced-accuracy</th>\n",
       "      <td>0.8047</td>\n",
       "      <td>0.8555</td>\n",
       "      <td>0.8242</td>\n",
       "      <td>0.8086</td>\n",
       "      <td>0.8910</td>\n",
       "      <td>0.8320</td>\n",
       "      <td>0.7812</td>\n",
       "      <td>0.8477</td>\n",
       "      <td>0.8477</td>\n",
       "      <td>0.8561</td>\n",
       "      <td>0.8398</td>\n",
       "      <td>0.8086</td>\n",
       "      <td>0.8125</td>\n",
       "      <td>0.8750</td>\n",
       "      <td>0.8431</td>\n",
       "    </tr>\n",
       "  </tbody>\n",
       "</table>\n",
       "</div>"
      ],
      "text/plain": [
       "Fold                   0       1       2       3       4       5       6   \\\n",
       "ROC-AUC            0.8595  0.9471  0.9010  0.8750  0.9437  0.9033  0.8821   \n",
       "Weighted-f1        0.8153  0.8392  0.7960  0.8055  0.8720  0.8223  0.7985   \n",
       "Balanced-accuracy  0.8047  0.8555  0.8242  0.8086  0.8910  0.8320  0.7812   \n",
       "\n",
       "Fold                   7       8       9       10      11      12      13  \\\n",
       "ROC-AUC            0.9280  0.9264  0.9223  0.9445  0.8683  0.9081  0.9081   \n",
       "Weighted-f1        0.8284  0.8284  0.8386  0.8176  0.8055  0.7954  0.8506   \n",
       "Balanced-accuracy  0.8477  0.8477  0.8561  0.8398  0.8086  0.8125  0.8750   \n",
       "\n",
       "Fold                   14  \n",
       "ROC-AUC            0.9241  \n",
       "Weighted-f1        0.7903  \n",
       "Balanced-accuracy  0.8431  "
      ]
     },
     "metadata": {},
     "output_type": "display_data"
    },
    {
     "name": "stdout",
     "output_type": "stream",
     "text": [
      "Average ROC-AUC = 0.9094 (with std = 0.0272)\n",
      "Average Weighted-f1 = 0.8202 (with std = 0.0223)\n",
      "Average Balanced-accuracy = 0.8352 (with std = 0.0281)\n",
      "CPU times: user 5min 27s, sys: 59.3 s, total: 6min 27s\n",
      "Wall time: 3min 51s\n"
     ]
    }
   ],
   "source": [
    "%%time\n",
    "predictions_dict[6] = run_experiment(feature_set=best_features, resampler=rus, n_trials=50)"
   ]
  },
  {
   "cell_type": "markdown",
   "id": "9b9a7438",
   "metadata": {
    "papermill": {
     "duration": 0.008433,
     "end_time": "2022-06-15T22:51:52.048398",
     "exception": false,
     "start_time": "2022-06-15T22:51:52.039965",
     "status": "completed"
    },
    "tags": []
   },
   "source": [
    "* Tuning with Optuna squeezed out slightly better performance out of CatBoost, compared to our [results earlier](https://www.kaggle.com/code/stiwarids/autismprediction-gradient-boosting).\n",
    "* CatBoost's internal imbalance handling using *scale_pos_weight* showed better results than external resampling.  \n",
    "* We tried only random oversampling and random undersampling from imblearn package. There are more complex resampling methods which would require some preprocessing that we have avoided because of CatBoost (such as one-hot encoding, which is handled by CatBoost itself). Will try to improve the code design in future versions to incorporate other resampling methods."
   ]
  },
  {
   "cell_type": "markdown",
   "id": "785cc6e5",
   "metadata": {
    "papermill": {
     "duration": 0.008563,
     "end_time": "2022-06-15T22:51:52.065745",
     "exception": false,
     "start_time": "2022-06-15T22:51:52.057182",
     "status": "completed"
    },
    "tags": []
   },
   "source": [
    "# Generating submission files"
   ]
  },
  {
   "cell_type": "code",
   "execution_count": 18,
   "id": "781d048a",
   "metadata": {
    "execution": {
     "iopub.execute_input": "2022-06-15T22:51:52.084764Z",
     "iopub.status.busy": "2022-06-15T22:51:52.084170Z",
     "iopub.status.idle": "2022-06-15T22:51:52.100023Z",
     "shell.execute_reply": "2022-06-15T22:51:52.099185Z"
    },
    "papermill": {
     "duration": 0.027666,
     "end_time": "2022-06-15T22:51:52.102161",
     "exception": false,
     "start_time": "2022-06-15T22:51:52.074495",
     "status": "completed"
    },
    "tags": []
   },
   "outputs": [],
   "source": [
    "for expmt, predictions in predictions_dict.items():\n",
    "    sub = pd.DataFrame({\n",
    "        'ID': test_index,\n",
    "        'Class/ASD': predictions\n",
    "    })\n",
    "    sub.to_csv(f'sub_{expmt}.csv', index=False)"
   ]
  },
  {
   "cell_type": "code",
   "execution_count": 19,
   "id": "7ac0cb3c",
   "metadata": {
    "execution": {
     "iopub.execute_input": "2022-06-15T22:51:52.121673Z",
     "iopub.status.busy": "2022-06-15T22:51:52.121243Z",
     "iopub.status.idle": "2022-06-15T22:51:52.410106Z",
     "shell.execute_reply": "2022-06-15T22:51:52.408969Z"
    },
    "papermill": {
     "duration": 0.301518,
     "end_time": "2022-06-15T22:51:52.412830",
     "exception": false,
     "start_time": "2022-06-15T22:51:52.111312",
     "status": "completed"
    },
    "tags": []
   },
   "outputs": [
    {
     "name": "stdout",
     "output_type": "stream",
     "text": [
      "ID,Class/ASD\r\n",
      "1,0.5491343165740652\r\n",
      "2,0.11499922071061432\r\n",
      "3,0.5132124021092852\r\n",
      "4,0.08211719054398459\r\n",
      "5,0.15903607732518024\r\n",
      "6,0.08132252532094235\r\n",
      "7,0.6518810850408253\r\n",
      "8,0.299415659799436\r\n",
      "9,0.09489812655278837\r\n"
     ]
    }
   ],
   "source": [
    "!head sub_2.csv"
   ]
  },
  {
   "cell_type": "markdown",
   "id": "6db16e09",
   "metadata": {
    "papermill": {
     "duration": 0.01402,
     "end_time": "2022-06-15T22:51:52.442028",
     "exception": false,
     "start_time": "2022-06-15T22:51:52.428008",
     "status": "completed"
    },
    "tags": []
   },
   "source": [
    "**Would appreciate any feedback about the content as well as the presentation. Thank you!**"
   ]
  }
 ],
 "metadata": {
  "kernelspec": {
   "display_name": "Python 3",
   "language": "python",
   "name": "python3"
  },
  "language_info": {
   "codemirror_mode": {
    "name": "ipython",
    "version": 3
   },
   "file_extension": ".py",
   "mimetype": "text/x-python",
   "name": "python",
   "nbconvert_exporter": "python",
   "pygments_lexer": "ipython3",
   "version": "3.7.12"
  },
  "papermill": {
   "default_parameters": {},
   "duration": 1547.818383,
   "end_time": "2022-06-15T22:51:53.681435",
   "environment_variables": {},
   "exception": null,
   "input_path": "__notebook__.ipynb",
   "output_path": "__notebook__.ipynb",
   "parameters": {},
   "start_time": "2022-06-15T22:26:05.863052",
   "version": "2.3.4"
  }
 },
 "nbformat": 4,
 "nbformat_minor": 5
}
