{
 "cells": [
  {
   "cell_type": "markdown",
   "id": "6eead2cd",
   "metadata": {
    "papermill": {
     "duration": 0.011542,
     "end_time": "2022-06-14T13:23:13.256367",
     "exception": false,
     "start_time": "2022-06-14T13:23:13.244825",
     "status": "completed"
    },
    "tags": []
   },
   "source": [
    "# Setup"
   ]
  },
  {
   "cell_type": "code",
   "execution_count": 1,
   "id": "8ae56af2",
   "metadata": {
    "_cell_guid": "b1076dfc-b9ad-4769-8c92-a6c4dae69d19",
    "_kg_hide-input": true,
    "_uuid": "8f2839f25d086af736a60e9eeb907d3b93b6e0e5",
    "execution": {
     "iopub.execute_input": "2022-06-14T13:23:13.291894Z",
     "iopub.status.busy": "2022-06-14T13:23:13.291349Z",
     "iopub.status.idle": "2022-06-14T13:23:16.584487Z",
     "shell.execute_reply": "2022-06-14T13:23:16.583541Z"
    },
    "papermill": {
     "duration": 3.317593,
     "end_time": "2022-06-14T13:23:16.587082",
     "exception": false,
     "start_time": "2022-06-14T13:23:13.269489",
     "status": "completed"
    },
    "tags": []
   },
   "outputs": [
    {
     "data": {
      "text/html": [
       "<style type='text/css'>\n",
       ".datatable table.frame { margin-bottom: 0; }\n",
       ".datatable table.frame thead { border-bottom: none; }\n",
       ".datatable table.frame tr.coltypes td {  color: #FFFFFF;  line-height: 6px;  padding: 0 0.5em;}\n",
       ".datatable .bool    { background: #DDDD99; }\n",
       ".datatable .object  { background: #565656; }\n",
       ".datatable .int     { background: #5D9E5D; }\n",
       ".datatable .float   { background: #4040CC; }\n",
       ".datatable .str     { background: #CC4040; }\n",
       ".datatable .time    { background: #40CC40; }\n",
       ".datatable .row_index {  background: var(--jp-border-color3);  border-right: 1px solid var(--jp-border-color0);  color: var(--jp-ui-font-color3);  font-size: 9px;}\n",
       ".datatable .frame tbody td { text-align: left; }\n",
       ".datatable .frame tr.coltypes .row_index {  background: var(--jp-border-color0);}\n",
       ".datatable th:nth-child(2) { padding-left: 12px; }\n",
       ".datatable .hellipsis {  color: var(--jp-cell-editor-border-color);}\n",
       ".datatable .vellipsis {  background: var(--jp-layout-color0);  color: var(--jp-cell-editor-border-color);}\n",
       ".datatable .na {  color: var(--jp-cell-editor-border-color);  font-size: 80%;}\n",
       ".datatable .sp {  opacity: 0.25;}\n",
       ".datatable .footer { font-size: 9px; }\n",
       ".datatable .frame_dimensions {  background: var(--jp-border-color3);  border-top: 1px solid var(--jp-border-color0);  color: var(--jp-ui-font-color3);  display: inline-block;  opacity: 0.6;  padding: 1px 10px 1px 5px;}\n",
       "</style>\n"
      ],
      "text/plain": [
       "<IPython.core.display.HTML object>"
      ]
     },
     "metadata": {},
     "output_type": "display_data"
    }
   ],
   "source": [
    "import os\n",
    "import gc\n",
    "import warnings\n",
    "gc.enable()\n",
    "warnings.filterwarnings('ignore')\n",
    "\n",
    "import numpy as np\n",
    "import scipy.stats as st\n",
    "import pandas as pd\n",
    "pd.set_option('precision', 4)\n",
    "pd.set_option('display.max_columns', None)\n",
    "\n",
    "import xgboost as xgb\n",
    "import lightgbm as lgbm\n",
    "import catboost as cb\n",
    "from typing import Any\n",
    "from sklearn.model_selection import RepeatedStratifiedKFold\n",
    "from sklearn.metrics import roc_auc_score, balanced_accuracy_score, f1_score\n",
    "\n",
    "SEED = 23\n",
    "os.environ['PYTHONHASHSEED'] = str(SEED)\n",
    "np.random.seed(SEED)"
   ]
  },
  {
   "cell_type": "code",
   "execution_count": 2,
   "id": "d9fba8e9",
   "metadata": {
    "execution": {
     "iopub.execute_input": "2022-06-14T13:23:16.603467Z",
     "iopub.status.busy": "2022-06-14T13:23:16.603155Z",
     "iopub.status.idle": "2022-06-14T13:23:16.607328Z",
     "shell.execute_reply": "2022-06-14T13:23:16.606562Z"
    },
    "papermill": {
     "duration": 0.015052,
     "end_time": "2022-06-14T13:23:16.609303",
     "exception": false,
     "start_time": "2022-06-14T13:23:16.594251",
     "status": "completed"
    },
    "tags": []
   },
   "outputs": [],
   "source": [
    "#delete cell if no problems with later versions\n",
    "assert xgb.__version__ == '1.6.1', f'Change in XGBoost version. Original notebook version: 1.6.1'\n",
    "assert lgbm.__version__ == '3.3.2', f'Change in LightGBM version. Original notebook version: 3.3.2'\n",
    "assert cb.__version__ == '1.0.6', f'Change in CatBoost version. Original notebook version: 1.0.6'"
   ]
  },
  {
   "cell_type": "code",
   "execution_count": 3,
   "id": "8e086958",
   "metadata": {
    "execution": {
     "iopub.execute_input": "2022-06-14T13:23:16.624483Z",
     "iopub.status.busy": "2022-06-14T13:23:16.624208Z",
     "iopub.status.idle": "2022-06-14T13:23:16.647914Z",
     "shell.execute_reply": "2022-06-14T13:23:16.647178Z"
    },
    "papermill": {
     "duration": 0.033409,
     "end_time": "2022-06-14T13:23:16.649924",
     "exception": false,
     "start_time": "2022-06-14T13:23:16.616515",
     "status": "completed"
    },
    "tags": []
   },
   "outputs": [],
   "source": [
    "train = pd.read_csv('../input/autismdiagnosis/Autism_Prediction/train.csv')\n",
    "test = pd.read_csv('../input/autismdiagnosis/Autism_Prediction/test.csv')"
   ]
  },
  {
   "cell_type": "markdown",
   "id": "9cd6f6dc",
   "metadata": {
    "papermill": {
     "duration": 0.006648,
     "end_time": "2022-06-14T13:23:16.663429",
     "exception": false,
     "start_time": "2022-06-14T13:23:16.656781",
     "status": "completed"
    },
    "tags": []
   },
   "source": [
    "# Preprocessing\n",
    "\n",
    "(based on [EDA](https://www.kaggle.com/code/stiwarids/autismprediction-eda) and [Resampling experiments](https://www.kaggle.com/code/stiwarids/autismprediction-resampling-experiments)) "
   ]
  },
  {
   "cell_type": "code",
   "execution_count": 4,
   "id": "e6faba68",
   "metadata": {
    "execution": {
     "iopub.execute_input": "2022-06-14T13:23:16.678391Z",
     "iopub.status.busy": "2022-06-14T13:23:16.678139Z",
     "iopub.status.idle": "2022-06-14T13:23:16.684896Z",
     "shell.execute_reply": "2022-06-14T13:23:16.684284Z"
    },
    "papermill": {
     "duration": 0.016145,
     "end_time": "2022-06-14T13:23:16.686663",
     "exception": false,
     "start_time": "2022-06-14T13:23:16.670518",
     "status": "completed"
    },
    "tags": []
   },
   "outputs": [],
   "source": [
    "features = ['A1_Score', 'A2_Score', 'A3_Score', 'A4_Score', 'A5_Score', \n",
    "            'A6_Score', 'A7_Score', 'A8_Score', 'A9_Score', 'A10_Score', \n",
    "            'AQ10_6_or_above', 'age_group', 'autism_family', 'is_White_European', \n",
    "            'jaundice', 'relation', 'result', 'age', 'AQ10_sum']\n",
    "num_features = ['result', 'age', 'AQ10_sum'] #continuous features\n",
    "cat_features = [f for f in features if f not in num_features] #categorical features\n",
    "cat_mask = [f in cat_features for f in features] #boolean mask: is categorical feature or not\n",
    "\n",
    "best_features = [f for f in features if f not in ('age', 'age_group', 'jaundice', 'relation')]\n",
    "best_cat_features = [f for f in cat_features if f in best_features]"
   ]
  },
  {
   "cell_type": "code",
   "execution_count": 5,
   "id": "74df8c53",
   "metadata": {
    "execution": {
     "iopub.execute_input": "2022-06-14T13:23:16.701118Z",
     "iopub.status.busy": "2022-06-14T13:23:16.700845Z",
     "iopub.status.idle": "2022-06-14T13:23:16.711267Z",
     "shell.execute_reply": "2022-06-14T13:23:16.710577Z"
    },
    "papermill": {
     "duration": 0.01964,
     "end_time": "2022-06-14T13:23:16.712883",
     "exception": false,
     "start_time": "2022-06-14T13:23:16.693243",
     "status": "completed"
    },
    "tags": []
   },
   "outputs": [],
   "source": [
    "def preprocess_dataset(df: pd.DataFrame) -> pd.DataFrame:\n",
    "    \"\"\"Prepare the data in accordance with the process described \n",
    "    in EDA notebook and return the modified dataframe.\n",
    "    \n",
    "    \"\"\"\n",
    "    #creating features - AQ10_sum, AQ10_6_or_above\n",
    "    aq_scores = [f'A{i}_Score' for i in range(1, 11)]\n",
    "    df['AQ10_sum'] = df[aq_scores].sum(axis=1)\n",
    "    df['AQ10_6_or_above'] = (df['AQ10_sum'] > 5).astype('int')\n",
    "    \n",
    "    #creating feature - age_group\n",
    "    def create_age_group(age):\n",
    "        \"\"\"Determine age group and return an integer indicating the category.\"\"\"\n",
    "        if age < 13: return 0 #child\n",
    "        elif age < 21: return 1 #adolescent\n",
    "        elif age < 40: return 2 #adult\n",
    "        elif age < 60: return 3 #middle-aged\n",
    "        else: return 4 #elderly\n",
    "        \n",
    "    df['age_group'] = df['age'].apply(create_age_group)\n",
    "    \n",
    "    #creating feature - is_White_European\n",
    "    df['is_White_European'] = (df['ethnicity'] == 'White-European').astype(int)\n",
    "    \n",
    "    #reclassifying column - relation\n",
    "    relation_mapping = {\n",
    "        'Self': 2, \n",
    "        'Parent': 1, 'Relative': 1, \n",
    "        'Others': 0, '?': 0, 'Health care professional': 0\n",
    "    }\n",
    "    df['relation'] = df['relation'].replace(to_replace=relation_mapping)\n",
    "    \n",
    "    #correcting column name - austim -> autism_family\n",
    "    df.rename({'austim': 'autism_family'}, axis=1, inplace=True)\n",
    "    \n",
    "    #integer encoding for 'yes'/'no' categorical columns - jaundice, autism_family\n",
    "    df[['jaundice', 'autism_family']] = df[['jaundice', 'autism_family']].replace(to_replace={'no': 0, 'yes': 1})\n",
    "    \n",
    "    df = df[features] #retaining only the selected features\n",
    "    df[cat_features] = df[cat_features].astype('category') #for modeling pipeline\n",
    "    return df\n"
   ]
  },
  {
   "cell_type": "code",
   "execution_count": 6,
   "id": "5634b73b",
   "metadata": {
    "_kg_hide-output": true,
    "execution": {
     "iopub.execute_input": "2022-06-14T13:23:16.727264Z",
     "iopub.status.busy": "2022-06-14T13:23:16.727016Z",
     "iopub.status.idle": "2022-06-14T13:23:16.898180Z",
     "shell.execute_reply": "2022-06-14T13:23:16.897443Z"
    },
    "papermill": {
     "duration": 0.180298,
     "end_time": "2022-06-14T13:23:16.899995",
     "exception": false,
     "start_time": "2022-06-14T13:23:16.719697",
     "status": "completed"
    },
    "tags": []
   },
   "outputs": [
    {
     "data": {
      "text/plain": [
       "5"
      ]
     },
     "execution_count": 6,
     "metadata": {},
     "output_type": "execute_result"
    }
   ],
   "source": [
    "test_index = test.ID #for generating submission file\n",
    "target = train['Class/ASD']\n",
    "\n",
    "train = preprocess_dataset(train)\n",
    "test = preprocess_dataset(test)\n",
    "\n",
    "gc.collect()"
   ]
  },
  {
   "cell_type": "markdown",
   "id": "051eec4b",
   "metadata": {
    "papermill": {
     "duration": 0.00693,
     "end_time": "2022-06-14T13:23:16.913905",
     "exception": false,
     "start_time": "2022-06-14T13:23:16.906975",
     "status": "completed"
    },
    "tags": []
   },
   "source": [
    "# Modeling"
   ]
  },
  {
   "cell_type": "code",
   "execution_count": 7,
   "id": "8c9c42d4",
   "metadata": {
    "execution": {
     "iopub.execute_input": "2022-06-14T13:23:16.929252Z",
     "iopub.status.busy": "2022-06-14T13:23:16.928975Z",
     "iopub.status.idle": "2022-06-14T13:23:16.940498Z",
     "shell.execute_reply": "2022-06-14T13:23:16.939800Z"
    },
    "papermill": {
     "duration": 0.020897,
     "end_time": "2022-06-14T13:23:16.942121",
     "exception": false,
     "start_time": "2022-06-14T13:23:16.921224",
     "status": "completed"
    },
    "tags": []
   },
   "outputs": [],
   "source": [
    "def evaluate_model(\n",
    "        model: Any, \n",
    "        features: list, \n",
    "        fit_params: dict = {}, \n",
    "        verbose: bool = True) -> list:\n",
    "    \"\"\"Cross-validate the model and return the predicted probabilities for test-set.\"\"\"\n",
    "    \n",
    "    probs_test = [] #test set predicted probabilities for all folds\n",
    "    preds_test = [] #test set predicted classes for all folds\n",
    "    scores_auc = [] #validation set AUC scores for all folds\n",
    "    scores_balacc = [] #validation set balanced accuracy scores for all folds\n",
    "    scores_f1 = [] #validation set weighted-f1 scores for all folds\n",
    "        \n",
    "    cv = RepeatedStratifiedKFold(n_splits=5, n_repeats=3, random_state=SEED)\n",
    "    for fold, (train_idx, val_idx) in enumerate(cv.split(train, target)):\n",
    "        xtrain, ytrain = train.loc[train_idx], target.iloc[train_idx]\n",
    "        xval, yval = train.loc[val_idx], target.iloc[val_idx]\n",
    "        \n",
    "        model.fit(\n",
    "            xtrain[features], ytrain,\n",
    "            eval_set=[(xval[features], yval)],\n",
    "            verbose=False,\n",
    "            **fit_params)\n",
    "        \n",
    "        probs_val = model.predict_proba(xval[features])[:, 1]\n",
    "        preds_val = model.predict(xval[features])\n",
    "        probs_test.append(model.predict_proba(test[features])[:, 1])\n",
    "        preds_test.append(model.predict(test[features]))\n",
    "        \n",
    "        scores_auc.append(roc_auc_score(yval, probs_val))\n",
    "        scores_balacc.append(balanced_accuracy_score(yval, preds_val))\n",
    "        scores_f1.append(f1_score(yval, preds_val, average='weighted'))\n",
    "    \n",
    "    if verbose:\n",
    "        scores_df = pd.DataFrame.from_dict({\n",
    "            'ROC-AUC': scores_auc,\n",
    "            'Balanced-accuracy':scores_balacc,\n",
    "            'Weighted-f1': scores_f1\n",
    "        })\n",
    "        scores_df.index.name = 'Fold'\n",
    "        display(scores_df)\n",
    "    \n",
    "    print(f'Average ROC-AUC = {np.mean(scores_auc):.4f} (with std = {np.std(scores_auc):.4f})')\n",
    "    print(f'Average Balanced-accuracy = {np.mean(scores_balacc):.4f} (with std = {np.std(scores_balacc):.4f})')\n",
    "    print(f'Average Weighted-f1 = {np.mean(scores_f1):.4f} (with std = {np.std(scores_f1):.4f})')\n",
    "    \n",
    "    preds_test = st.mode(np.column_stack(preds_test), axis=1).mode\n",
    "    probs_test = np.mean(np.column_stack(probs_test), axis=1)\n",
    "    \n",
    "    return probs_test #only probabilities are needed for the competition metric"
   ]
  },
  {
   "cell_type": "code",
   "execution_count": 8,
   "id": "fffcbbb6",
   "metadata": {
    "execution": {
     "iopub.execute_input": "2022-06-14T13:23:16.957285Z",
     "iopub.status.busy": "2022-06-14T13:23:16.956578Z",
     "iopub.status.idle": "2022-06-14T13:23:16.960734Z",
     "shell.execute_reply": "2022-06-14T13:23:16.959981Z"
    },
    "papermill": {
     "duration": 0.013872,
     "end_time": "2022-06-14T13:23:16.962684",
     "exception": false,
     "start_time": "2022-06-14T13:23:16.948812",
     "status": "completed"
    },
    "tags": []
   },
   "outputs": [],
   "source": [
    "predictions_dict = {}"
   ]
  },
  {
   "cell_type": "markdown",
   "id": "dc3a83ef",
   "metadata": {
    "papermill": {
     "duration": 0.006734,
     "end_time": "2022-06-14T13:23:16.976699",
     "exception": false,
     "start_time": "2022-06-14T13:23:16.969965",
     "status": "completed"
    },
    "tags": []
   },
   "source": [
    "### XGBoost"
   ]
  },
  {
   "cell_type": "code",
   "execution_count": 9,
   "id": "a6c57cb1",
   "metadata": {
    "execution": {
     "iopub.execute_input": "2022-06-14T13:23:16.991383Z",
     "iopub.status.busy": "2022-06-14T13:23:16.991130Z",
     "iopub.status.idle": "2022-06-14T13:23:16.995271Z",
     "shell.execute_reply": "2022-06-14T13:23:16.994538Z"
    },
    "papermill": {
     "duration": 0.013388,
     "end_time": "2022-06-14T13:23:16.996855",
     "exception": false,
     "start_time": "2022-06-14T13:23:16.983467",
     "status": "completed"
    },
    "tags": []
   },
   "outputs": [],
   "source": [
    "#target class imbalance: ratio of negative to positive samples\n",
    "class_ratio = sum(target == 0) / sum(target == 1)"
   ]
  },
  {
   "cell_type": "code",
   "execution_count": 10,
   "id": "d300fdca",
   "metadata": {
    "execution": {
     "iopub.execute_input": "2022-06-14T13:23:17.011703Z",
     "iopub.status.busy": "2022-06-14T13:23:17.011459Z",
     "iopub.status.idle": "2022-06-14T13:23:17.015777Z",
     "shell.execute_reply": "2022-06-14T13:23:17.015035Z"
    },
    "papermill": {
     "duration": 0.013379,
     "end_time": "2022-06-14T13:23:17.017468",
     "exception": false,
     "start_time": "2022-06-14T13:23:17.004089",
     "status": "completed"
    },
    "tags": []
   },
   "outputs": [],
   "source": [
    "xgb_model = xgb.XGBClassifier(\n",
    "    n_estimators=1000,\n",
    "    learning_rate=0.1,\n",
    "    max_depth=4,\n",
    "    objective='binary:logistic',\n",
    "    tree_method='gpu_hist',\n",
    "    scale_pos_weight=class_ratio,\n",
    "    enable_categorical=True,\n",
    "    max_cat_to_onehot=2,\n",
    "    eval_metric='auc',\n",
    "    early_stopping_rounds=25,\n",
    "    random_state=SEED)"
   ]
  },
  {
   "cell_type": "code",
   "execution_count": 11,
   "id": "71055391",
   "metadata": {
    "execution": {
     "iopub.execute_input": "2022-06-14T13:23:17.032472Z",
     "iopub.status.busy": "2022-06-14T13:23:17.032210Z",
     "iopub.status.idle": "2022-06-14T13:23:22.649083Z",
     "shell.execute_reply": "2022-06-14T13:23:22.647666Z"
    },
    "papermill": {
     "duration": 5.62651,
     "end_time": "2022-06-14T13:23:22.650881",
     "exception": false,
     "start_time": "2022-06-14T13:23:17.024371",
     "status": "completed"
    },
    "tags": []
   },
   "outputs": [
    {
     "data": {
      "text/html": [
       "<div>\n",
       "<style scoped>\n",
       "    .dataframe tbody tr th:only-of-type {\n",
       "        vertical-align: middle;\n",
       "    }\n",
       "\n",
       "    .dataframe tbody tr th {\n",
       "        vertical-align: top;\n",
       "    }\n",
       "\n",
       "    .dataframe thead th {\n",
       "        text-align: right;\n",
       "    }\n",
       "</style>\n",
       "<table border=\"1\" class=\"dataframe\">\n",
       "  <thead>\n",
       "    <tr style=\"text-align: right;\">\n",
       "      <th></th>\n",
       "      <th>ROC-AUC</th>\n",
       "      <th>Balanced-accuracy</th>\n",
       "      <th>Weighted-f1</th>\n",
       "    </tr>\n",
       "    <tr>\n",
       "      <th>Fold</th>\n",
       "      <th></th>\n",
       "      <th></th>\n",
       "      <th></th>\n",
       "    </tr>\n",
       "  </thead>\n",
       "  <tbody>\n",
       "    <tr>\n",
       "      <th>0</th>\n",
       "      <td>0.8528</td>\n",
       "      <td>0.7734</td>\n",
       "      <td>0.8028</td>\n",
       "    </tr>\n",
       "    <tr>\n",
       "      <th>1</th>\n",
       "      <td>0.9392</td>\n",
       "      <td>0.8750</td>\n",
       "      <td>0.8662</td>\n",
       "    </tr>\n",
       "    <tr>\n",
       "      <th>2</th>\n",
       "      <td>0.9056</td>\n",
       "      <td>0.8438</td>\n",
       "      <td>0.8073</td>\n",
       "    </tr>\n",
       "    <tr>\n",
       "      <th>3</th>\n",
       "      <td>0.8839</td>\n",
       "      <td>0.8008</td>\n",
       "      <td>0.8100</td>\n",
       "    </tr>\n",
       "    <tr>\n",
       "      <th>4</th>\n",
       "      <td>0.9538</td>\n",
       "      <td>0.8797</td>\n",
       "      <td>0.8713</td>\n",
       "    </tr>\n",
       "    <tr>\n",
       "      <th>5</th>\n",
       "      <td>0.9001</td>\n",
       "      <td>0.8594</td>\n",
       "      <td>0.8290</td>\n",
       "    </tr>\n",
       "    <tr>\n",
       "      <th>6</th>\n",
       "      <td>0.8727</td>\n",
       "      <td>0.7695</td>\n",
       "      <td>0.8266</td>\n",
       "    </tr>\n",
       "    <tr>\n",
       "      <th>7</th>\n",
       "      <td>0.9374</td>\n",
       "      <td>0.8555</td>\n",
       "      <td>0.8236</td>\n",
       "    </tr>\n",
       "    <tr>\n",
       "      <th>8</th>\n",
       "      <td>0.9326</td>\n",
       "      <td>0.8555</td>\n",
       "      <td>0.8546</td>\n",
       "    </tr>\n",
       "    <tr>\n",
       "      <th>9</th>\n",
       "      <td>0.9089</td>\n",
       "      <td>0.8298</td>\n",
       "      <td>0.8317</td>\n",
       "    </tr>\n",
       "    <tr>\n",
       "      <th>10</th>\n",
       "      <td>0.9335</td>\n",
       "      <td>0.8281</td>\n",
       "      <td>0.8474</td>\n",
       "    </tr>\n",
       "    <tr>\n",
       "      <th>11</th>\n",
       "      <td>0.8579</td>\n",
       "      <td>0.8125</td>\n",
       "      <td>0.8108</td>\n",
       "    </tr>\n",
       "    <tr>\n",
       "      <th>12</th>\n",
       "      <td>0.9163</td>\n",
       "      <td>0.8203</td>\n",
       "      <td>0.8062</td>\n",
       "    </tr>\n",
       "    <tr>\n",
       "      <th>13</th>\n",
       "      <td>0.9250</td>\n",
       "      <td>0.8633</td>\n",
       "      <td>0.8654</td>\n",
       "    </tr>\n",
       "    <tr>\n",
       "      <th>14</th>\n",
       "      <td>0.9061</td>\n",
       "      <td>0.8488</td>\n",
       "      <td>0.8433</td>\n",
       "    </tr>\n",
       "  </tbody>\n",
       "</table>\n",
       "</div>"
      ],
      "text/plain": [
       "      ROC-AUC  Balanced-accuracy  Weighted-f1\n",
       "Fold                                         \n",
       "0      0.8528             0.7734       0.8028\n",
       "1      0.9392             0.8750       0.8662\n",
       "2      0.9056             0.8438       0.8073\n",
       "3      0.8839             0.8008       0.8100\n",
       "4      0.9538             0.8797       0.8713\n",
       "5      0.9001             0.8594       0.8290\n",
       "6      0.8727             0.7695       0.8266\n",
       "7      0.9374             0.8555       0.8236\n",
       "8      0.9326             0.8555       0.8546\n",
       "9      0.9089             0.8298       0.8317\n",
       "10     0.9335             0.8281       0.8474\n",
       "11     0.8579             0.8125       0.8108\n",
       "12     0.9163             0.8203       0.8062\n",
       "13     0.9250             0.8633       0.8654\n",
       "14     0.9061             0.8488       0.8433"
      ]
     },
     "metadata": {},
     "output_type": "display_data"
    },
    {
     "name": "stdout",
     "output_type": "stream",
     "text": [
      "Average ROC-AUC = 0.9084 (with std = 0.0294)\n",
      "Average Balanced-accuracy = 0.8344 (with std = 0.0328)\n",
      "Average Weighted-f1 = 0.8331 (with std = 0.0229)\n"
     ]
    }
   ],
   "source": [
    "predictions_dict['xgb_all'] = evaluate_model(xgb_model, features)"
   ]
  },
  {
   "cell_type": "code",
   "execution_count": 12,
   "id": "2033aad8",
   "metadata": {
    "execution": {
     "iopub.execute_input": "2022-06-14T13:23:22.666547Z",
     "iopub.status.busy": "2022-06-14T13:23:22.666270Z",
     "iopub.status.idle": "2022-06-14T13:23:26.362906Z",
     "shell.execute_reply": "2022-06-14T13:23:26.361572Z"
    },
    "papermill": {
     "duration": 3.707001,
     "end_time": "2022-06-14T13:23:26.365383",
     "exception": false,
     "start_time": "2022-06-14T13:23:22.658382",
     "status": "completed"
    },
    "tags": []
   },
   "outputs": [
    {
     "data": {
      "text/html": [
       "<div>\n",
       "<style scoped>\n",
       "    .dataframe tbody tr th:only-of-type {\n",
       "        vertical-align: middle;\n",
       "    }\n",
       "\n",
       "    .dataframe tbody tr th {\n",
       "        vertical-align: top;\n",
       "    }\n",
       "\n",
       "    .dataframe thead th {\n",
       "        text-align: right;\n",
       "    }\n",
       "</style>\n",
       "<table border=\"1\" class=\"dataframe\">\n",
       "  <thead>\n",
       "    <tr style=\"text-align: right;\">\n",
       "      <th></th>\n",
       "      <th>ROC-AUC</th>\n",
       "      <th>Balanced-accuracy</th>\n",
       "      <th>Weighted-f1</th>\n",
       "    </tr>\n",
       "    <tr>\n",
       "      <th>Fold</th>\n",
       "      <th></th>\n",
       "      <th></th>\n",
       "      <th></th>\n",
       "    </tr>\n",
       "  </thead>\n",
       "  <tbody>\n",
       "    <tr>\n",
       "      <th>0</th>\n",
       "      <td>0.8527</td>\n",
       "      <td>0.7930</td>\n",
       "      <td>0.7994</td>\n",
       "    </tr>\n",
       "    <tr>\n",
       "      <th>1</th>\n",
       "      <td>0.9462</td>\n",
       "      <td>0.8828</td>\n",
       "      <td>0.8771</td>\n",
       "    </tr>\n",
       "    <tr>\n",
       "      <th>2</th>\n",
       "      <td>0.9119</td>\n",
       "      <td>0.8359</td>\n",
       "      <td>0.8277</td>\n",
       "    </tr>\n",
       "    <tr>\n",
       "      <th>3</th>\n",
       "      <td>0.8651</td>\n",
       "      <td>0.8086</td>\n",
       "      <td>0.7900</td>\n",
       "    </tr>\n",
       "    <tr>\n",
       "      <th>4</th>\n",
       "      <td>0.9457</td>\n",
       "      <td>0.8646</td>\n",
       "      <td>0.8650</td>\n",
       "    </tr>\n",
       "    <tr>\n",
       "      <th>5</th>\n",
       "      <td>0.8899</td>\n",
       "      <td>0.8398</td>\n",
       "      <td>0.8176</td>\n",
       "    </tr>\n",
       "    <tr>\n",
       "      <th>6</th>\n",
       "      <td>0.8774</td>\n",
       "      <td>0.8164</td>\n",
       "      <td>0.8313</td>\n",
       "    </tr>\n",
       "    <tr>\n",
       "      <th>7</th>\n",
       "      <td>0.9414</td>\n",
       "      <td>0.8789</td>\n",
       "      <td>0.8404</td>\n",
       "    </tr>\n",
       "    <tr>\n",
       "      <th>8</th>\n",
       "      <td>0.9225</td>\n",
       "      <td>0.8594</td>\n",
       "      <td>0.8446</td>\n",
       "    </tr>\n",
       "    <tr>\n",
       "      <th>9</th>\n",
       "      <td>0.9005</td>\n",
       "      <td>0.8331</td>\n",
       "      <td>0.8216</td>\n",
       "    </tr>\n",
       "    <tr>\n",
       "      <th>10</th>\n",
       "      <td>0.9221</td>\n",
       "      <td>0.8203</td>\n",
       "      <td>0.8367</td>\n",
       "    </tr>\n",
       "    <tr>\n",
       "      <th>11</th>\n",
       "      <td>0.8566</td>\n",
       "      <td>0.8047</td>\n",
       "      <td>0.8001</td>\n",
       "    </tr>\n",
       "    <tr>\n",
       "      <th>12</th>\n",
       "      <td>0.9165</td>\n",
       "      <td>0.8398</td>\n",
       "      <td>0.8176</td>\n",
       "    </tr>\n",
       "    <tr>\n",
       "      <th>13</th>\n",
       "      <td>0.9235</td>\n",
       "      <td>0.8789</td>\n",
       "      <td>0.8561</td>\n",
       "    </tr>\n",
       "    <tr>\n",
       "      <th>14</th>\n",
       "      <td>0.9030</td>\n",
       "      <td>0.8516</td>\n",
       "      <td>0.8174</td>\n",
       "    </tr>\n",
       "  </tbody>\n",
       "</table>\n",
       "</div>"
      ],
      "text/plain": [
       "      ROC-AUC  Balanced-accuracy  Weighted-f1\n",
       "Fold                                         \n",
       "0      0.8527             0.7930       0.7994\n",
       "1      0.9462             0.8828       0.8771\n",
       "2      0.9119             0.8359       0.8277\n",
       "3      0.8651             0.8086       0.7900\n",
       "4      0.9457             0.8646       0.8650\n",
       "5      0.8899             0.8398       0.8176\n",
       "6      0.8774             0.8164       0.8313\n",
       "7      0.9414             0.8789       0.8404\n",
       "8      0.9225             0.8594       0.8446\n",
       "9      0.9005             0.8331       0.8216\n",
       "10     0.9221             0.8203       0.8367\n",
       "11     0.8566             0.8047       0.8001\n",
       "12     0.9165             0.8398       0.8176\n",
       "13     0.9235             0.8789       0.8561\n",
       "14     0.9030             0.8516       0.8174"
      ]
     },
     "metadata": {},
     "output_type": "display_data"
    },
    {
     "name": "stdout",
     "output_type": "stream",
     "text": [
      "Average ROC-AUC = 0.9050 (with std = 0.0300)\n",
      "Average Balanced-accuracy = 0.8405 (with std = 0.0276)\n",
      "Average Weighted-f1 = 0.8295 (with std = 0.0238)\n"
     ]
    }
   ],
   "source": [
    "predictions_dict['xgb_best'] = evaluate_model(xgb_model, best_features)"
   ]
  },
  {
   "cell_type": "markdown",
   "id": "41ae41bf",
   "metadata": {
    "papermill": {
     "duration": 0.011627,
     "end_time": "2022-06-14T13:23:26.390537",
     "exception": false,
     "start_time": "2022-06-14T13:23:26.378910",
     "status": "completed"
    },
    "tags": []
   },
   "source": [
    "### LightGBM"
   ]
  },
  {
   "cell_type": "code",
   "execution_count": 13,
   "id": "4031f785",
   "metadata": {
    "execution": {
     "iopub.execute_input": "2022-06-14T13:23:26.416573Z",
     "iopub.status.busy": "2022-06-14T13:23:26.416112Z",
     "iopub.status.idle": "2022-06-14T13:23:26.421626Z",
     "shell.execute_reply": "2022-06-14T13:23:26.420989Z"
    },
    "papermill": {
     "duration": 0.021965,
     "end_time": "2022-06-14T13:23:26.424878",
     "exception": false,
     "start_time": "2022-06-14T13:23:26.402913",
     "status": "completed"
    },
    "tags": []
   },
   "outputs": [],
   "source": [
    "lgbm_model = lgbm.LGBMClassifier(\n",
    "    n_estimators=1000,\n",
    "    learning_rate=0.1,\n",
    "    max_depth=4,\n",
    "    objective='binary',\n",
    "    scale_pos_weight=class_ratio,\n",
    "    random_state=SEED,\n",
    "    device_type='gpu',\n",
    "    early_stopping_round=25,\n",
    "    max_cat_to_onehot=2,\n",
    "    verbosity=-1)"
   ]
  },
  {
   "cell_type": "code",
   "execution_count": 14,
   "id": "958ca144",
   "metadata": {
    "execution": {
     "iopub.execute_input": "2022-06-14T13:23:26.454469Z",
     "iopub.status.busy": "2022-06-14T13:23:26.453978Z",
     "iopub.status.idle": "2022-06-14T13:23:35.714335Z",
     "shell.execute_reply": "2022-06-14T13:23:35.713375Z"
    },
    "papermill": {
     "duration": 9.280111,
     "end_time": "2022-06-14T13:23:35.716744",
     "exception": false,
     "start_time": "2022-06-14T13:23:26.436633",
     "status": "completed"
    },
    "tags": []
   },
   "outputs": [
    {
     "data": {
      "text/html": [
       "<div>\n",
       "<style scoped>\n",
       "    .dataframe tbody tr th:only-of-type {\n",
       "        vertical-align: middle;\n",
       "    }\n",
       "\n",
       "    .dataframe tbody tr th {\n",
       "        vertical-align: top;\n",
       "    }\n",
       "\n",
       "    .dataframe thead th {\n",
       "        text-align: right;\n",
       "    }\n",
       "</style>\n",
       "<table border=\"1\" class=\"dataframe\">\n",
       "  <thead>\n",
       "    <tr style=\"text-align: right;\">\n",
       "      <th></th>\n",
       "      <th>ROC-AUC</th>\n",
       "      <th>Balanced-accuracy</th>\n",
       "      <th>Weighted-f1</th>\n",
       "    </tr>\n",
       "    <tr>\n",
       "      <th>Fold</th>\n",
       "      <th></th>\n",
       "      <th></th>\n",
       "      <th></th>\n",
       "    </tr>\n",
       "  </thead>\n",
       "  <tbody>\n",
       "    <tr>\n",
       "      <th>0</th>\n",
       "      <td>0.8849</td>\n",
       "      <td>0.7891</td>\n",
       "      <td>0.8386</td>\n",
       "    </tr>\n",
       "    <tr>\n",
       "      <th>1</th>\n",
       "      <td>0.9408</td>\n",
       "      <td>0.8555</td>\n",
       "      <td>0.8546</td>\n",
       "    </tr>\n",
       "    <tr>\n",
       "      <th>2</th>\n",
       "      <td>0.8998</td>\n",
       "      <td>0.7812</td>\n",
       "      <td>0.8133</td>\n",
       "    </tr>\n",
       "    <tr>\n",
       "      <th>3</th>\n",
       "      <td>0.8765</td>\n",
       "      <td>0.7383</td>\n",
       "      <td>0.7991</td>\n",
       "    </tr>\n",
       "    <tr>\n",
       "      <th>4</th>\n",
       "      <td>0.9433</td>\n",
       "      <td>0.5000</td>\n",
       "      <td>0.7025</td>\n",
       "    </tr>\n",
       "    <tr>\n",
       "      <th>5</th>\n",
       "      <td>0.8802</td>\n",
       "      <td>0.7578</td>\n",
       "      <td>0.7964</td>\n",
       "    </tr>\n",
       "    <tr>\n",
       "      <th>6</th>\n",
       "      <td>0.8619</td>\n",
       "      <td>0.7344</td>\n",
       "      <td>0.8355</td>\n",
       "    </tr>\n",
       "    <tr>\n",
       "      <th>7</th>\n",
       "      <td>0.9342</td>\n",
       "      <td>0.5000</td>\n",
       "      <td>0.7111</td>\n",
       "    </tr>\n",
       "    <tr>\n",
       "      <th>8</th>\n",
       "      <td>0.9276</td>\n",
       "      <td>0.8125</td>\n",
       "      <td>0.8559</td>\n",
       "    </tr>\n",
       "    <tr>\n",
       "      <th>9</th>\n",
       "      <td>0.9247</td>\n",
       "      <td>0.7867</td>\n",
       "      <td>0.8719</td>\n",
       "    </tr>\n",
       "    <tr>\n",
       "      <th>10</th>\n",
       "      <td>0.9193</td>\n",
       "      <td>0.7969</td>\n",
       "      <td>0.8345</td>\n",
       "    </tr>\n",
       "    <tr>\n",
       "      <th>11</th>\n",
       "      <td>0.8672</td>\n",
       "      <td>0.5000</td>\n",
       "      <td>0.7111</td>\n",
       "    </tr>\n",
       "    <tr>\n",
       "      <th>12</th>\n",
       "      <td>0.9155</td>\n",
       "      <td>0.6250</td>\n",
       "      <td>0.8015</td>\n",
       "    </tr>\n",
       "    <tr>\n",
       "      <th>13</th>\n",
       "      <td>0.9130</td>\n",
       "      <td>0.8516</td>\n",
       "      <td>0.8645</td>\n",
       "    </tr>\n",
       "    <tr>\n",
       "      <th>14</th>\n",
       "      <td>0.9153</td>\n",
       "      <td>0.5000</td>\n",
       "      <td>0.7025</td>\n",
       "    </tr>\n",
       "  </tbody>\n",
       "</table>\n",
       "</div>"
      ],
      "text/plain": [
       "      ROC-AUC  Balanced-accuracy  Weighted-f1\n",
       "Fold                                         \n",
       "0      0.8849             0.7891       0.8386\n",
       "1      0.9408             0.8555       0.8546\n",
       "2      0.8998             0.7812       0.8133\n",
       "3      0.8765             0.7383       0.7991\n",
       "4      0.9433             0.5000       0.7025\n",
       "5      0.8802             0.7578       0.7964\n",
       "6      0.8619             0.7344       0.8355\n",
       "7      0.9342             0.5000       0.7111\n",
       "8      0.9276             0.8125       0.8559\n",
       "9      0.9247             0.7867       0.8719\n",
       "10     0.9193             0.7969       0.8345\n",
       "11     0.8672             0.5000       0.7111\n",
       "12     0.9155             0.6250       0.8015\n",
       "13     0.9130             0.8516       0.8645\n",
       "14     0.9153             0.5000       0.7025"
      ]
     },
     "metadata": {},
     "output_type": "display_data"
    },
    {
     "name": "stdout",
     "output_type": "stream",
     "text": [
      "Average ROC-AUC = 0.9070 (with std = 0.0259)\n",
      "Average Balanced-accuracy = 0.7019 (with std = 0.1324)\n",
      "Average Weighted-f1 = 0.7995 (with std = 0.0602)\n"
     ]
    }
   ],
   "source": [
    "predictions_dict['lgbm_all'] = evaluate_model(lgbm_model, features, {'eval_metric': 'auc'})"
   ]
  },
  {
   "cell_type": "code",
   "execution_count": 15,
   "id": "e0cdb62a",
   "metadata": {
    "execution": {
     "iopub.execute_input": "2022-06-14T13:23:35.733563Z",
     "iopub.status.busy": "2022-06-14T13:23:35.733289Z",
     "iopub.status.idle": "2022-06-14T13:23:39.719153Z",
     "shell.execute_reply": "2022-06-14T13:23:39.717922Z"
    },
    "papermill": {
     "duration": 3.996747,
     "end_time": "2022-06-14T13:23:39.721506",
     "exception": false,
     "start_time": "2022-06-14T13:23:35.724759",
     "status": "completed"
    },
    "tags": []
   },
   "outputs": [
    {
     "data": {
      "text/html": [
       "<div>\n",
       "<style scoped>\n",
       "    .dataframe tbody tr th:only-of-type {\n",
       "        vertical-align: middle;\n",
       "    }\n",
       "\n",
       "    .dataframe tbody tr th {\n",
       "        vertical-align: top;\n",
       "    }\n",
       "\n",
       "    .dataframe thead th {\n",
       "        text-align: right;\n",
       "    }\n",
       "</style>\n",
       "<table border=\"1\" class=\"dataframe\">\n",
       "  <thead>\n",
       "    <tr style=\"text-align: right;\">\n",
       "      <th></th>\n",
       "      <th>ROC-AUC</th>\n",
       "      <th>Balanced-accuracy</th>\n",
       "      <th>Weighted-f1</th>\n",
       "    </tr>\n",
       "    <tr>\n",
       "      <th>Fold</th>\n",
       "      <th></th>\n",
       "      <th></th>\n",
       "      <th></th>\n",
       "    </tr>\n",
       "  </thead>\n",
       "  <tbody>\n",
       "    <tr>\n",
       "      <th>0</th>\n",
       "      <td>0.8710</td>\n",
       "      <td>0.6836</td>\n",
       "      <td>0.8203</td>\n",
       "    </tr>\n",
       "    <tr>\n",
       "      <th>1</th>\n",
       "      <td>0.9395</td>\n",
       "      <td>0.8711</td>\n",
       "      <td>0.8608</td>\n",
       "    </tr>\n",
       "    <tr>\n",
       "      <th>2</th>\n",
       "      <td>0.9000</td>\n",
       "      <td>0.7930</td>\n",
       "      <td>0.8144</td>\n",
       "    </tr>\n",
       "    <tr>\n",
       "      <th>3</th>\n",
       "      <td>0.8677</td>\n",
       "      <td>0.7422</td>\n",
       "      <td>0.7900</td>\n",
       "    </tr>\n",
       "    <tr>\n",
       "      <th>4</th>\n",
       "      <td>0.9414</td>\n",
       "      <td>0.8652</td>\n",
       "      <td>0.8807</td>\n",
       "    </tr>\n",
       "    <tr>\n",
       "      <th>5</th>\n",
       "      <td>0.8722</td>\n",
       "      <td>0.7539</td>\n",
       "      <td>0.8199</td>\n",
       "    </tr>\n",
       "    <tr>\n",
       "      <th>6</th>\n",
       "      <td>0.8636</td>\n",
       "      <td>0.8320</td>\n",
       "      <td>0.8528</td>\n",
       "    </tr>\n",
       "    <tr>\n",
       "      <th>7</th>\n",
       "      <td>0.9330</td>\n",
       "      <td>0.5000</td>\n",
       "      <td>0.7111</td>\n",
       "    </tr>\n",
       "    <tr>\n",
       "      <th>8</th>\n",
       "      <td>0.9128</td>\n",
       "      <td>0.8242</td>\n",
       "      <td>0.8571</td>\n",
       "    </tr>\n",
       "    <tr>\n",
       "      <th>9</th>\n",
       "      <td>0.9127</td>\n",
       "      <td>0.8528</td>\n",
       "      <td>0.8487</td>\n",
       "    </tr>\n",
       "    <tr>\n",
       "      <th>10</th>\n",
       "      <td>0.9252</td>\n",
       "      <td>0.8008</td>\n",
       "      <td>0.8398</td>\n",
       "    </tr>\n",
       "    <tr>\n",
       "      <th>11</th>\n",
       "      <td>0.8850</td>\n",
       "      <td>0.5000</td>\n",
       "      <td>0.7111</td>\n",
       "    </tr>\n",
       "    <tr>\n",
       "      <th>12</th>\n",
       "      <td>0.9032</td>\n",
       "      <td>0.5000</td>\n",
       "      <td>0.7111</td>\n",
       "    </tr>\n",
       "    <tr>\n",
       "      <th>13</th>\n",
       "      <td>0.9111</td>\n",
       "      <td>0.7734</td>\n",
       "      <td>0.8608</td>\n",
       "    </tr>\n",
       "    <tr>\n",
       "      <th>14</th>\n",
       "      <td>0.9116</td>\n",
       "      <td>0.8006</td>\n",
       "      <td>0.8490</td>\n",
       "    </tr>\n",
       "  </tbody>\n",
       "</table>\n",
       "</div>"
      ],
      "text/plain": [
       "      ROC-AUC  Balanced-accuracy  Weighted-f1\n",
       "Fold                                         \n",
       "0      0.8710             0.6836       0.8203\n",
       "1      0.9395             0.8711       0.8608\n",
       "2      0.9000             0.7930       0.8144\n",
       "3      0.8677             0.7422       0.7900\n",
       "4      0.9414             0.8652       0.8807\n",
       "5      0.8722             0.7539       0.8199\n",
       "6      0.8636             0.8320       0.8528\n",
       "7      0.9330             0.5000       0.7111\n",
       "8      0.9128             0.8242       0.8571\n",
       "9      0.9127             0.8528       0.8487\n",
       "10     0.9252             0.8008       0.8398\n",
       "11     0.8850             0.5000       0.7111\n",
       "12     0.9032             0.5000       0.7111\n",
       "13     0.9111             0.7734       0.8608\n",
       "14     0.9116             0.8006       0.8490"
      ]
     },
     "metadata": {},
     "output_type": "display_data"
    },
    {
     "name": "stdout",
     "output_type": "stream",
     "text": [
      "Average ROC-AUC = 0.9033 (with std = 0.0253)\n",
      "Average Balanced-accuracy = 0.7395 (with std = 0.1287)\n",
      "Average Weighted-f1 = 0.8152 (with std = 0.0564)\n"
     ]
    }
   ],
   "source": [
    "predictions_dict['lgbm_best'] = evaluate_model(lgbm_model, best_features, {'eval_metric': 'auc'})"
   ]
  },
  {
   "cell_type": "markdown",
   "id": "3c2df39e",
   "metadata": {
    "papermill": {
     "duration": 0.007843,
     "end_time": "2022-06-14T13:23:39.738065",
     "exception": false,
     "start_time": "2022-06-14T13:23:39.730222",
     "status": "completed"
    },
    "tags": []
   },
   "source": [
    "### CatBoost"
   ]
  },
  {
   "cell_type": "code",
   "execution_count": 16,
   "id": "876bd3d6",
   "metadata": {
    "execution": {
     "iopub.execute_input": "2022-06-14T13:23:39.755245Z",
     "iopub.status.busy": "2022-06-14T13:23:39.754945Z",
     "iopub.status.idle": "2022-06-14T13:23:39.763731Z",
     "shell.execute_reply": "2022-06-14T13:23:39.762855Z"
    },
    "papermill": {
     "duration": 0.019442,
     "end_time": "2022-06-14T13:23:39.765598",
     "exception": false,
     "start_time": "2022-06-14T13:23:39.746156",
     "status": "completed"
    },
    "tags": []
   },
   "outputs": [],
   "source": [
    "cb_model = cb.CatBoostClassifier(\n",
    "    n_estimators=1000,\n",
    "    learning_rate=0.1,\n",
    "    max_depth=4,\n",
    "    boosting_type='Ordered',\n",
    "    eval_metric='Logloss',\n",
    "    scale_pos_weight=class_ratio,\n",
    "    one_hot_max_size=2,\n",
    "    use_best_model=True,\n",
    "    task_type='GPU',\n",
    "    verbose=False,\n",
    "    early_stopping_rounds=25,\n",
    "    random_state=SEED)"
   ]
  },
  {
   "cell_type": "code",
   "execution_count": 17,
   "id": "c0e53074",
   "metadata": {
    "execution": {
     "iopub.execute_input": "2022-06-14T13:23:39.782940Z",
     "iopub.status.busy": "2022-06-14T13:23:39.782621Z",
     "iopub.status.idle": "2022-06-14T13:25:28.411933Z",
     "shell.execute_reply": "2022-06-14T13:25:28.410702Z"
    },
    "papermill": {
     "duration": 108.64264,
     "end_time": "2022-06-14T13:25:28.416117",
     "exception": false,
     "start_time": "2022-06-14T13:23:39.773477",
     "status": "completed"
    },
    "tags": []
   },
   "outputs": [
    {
     "data": {
      "text/html": [
       "<div>\n",
       "<style scoped>\n",
       "    .dataframe tbody tr th:only-of-type {\n",
       "        vertical-align: middle;\n",
       "    }\n",
       "\n",
       "    .dataframe tbody tr th {\n",
       "        vertical-align: top;\n",
       "    }\n",
       "\n",
       "    .dataframe thead th {\n",
       "        text-align: right;\n",
       "    }\n",
       "</style>\n",
       "<table border=\"1\" class=\"dataframe\">\n",
       "  <thead>\n",
       "    <tr style=\"text-align: right;\">\n",
       "      <th></th>\n",
       "      <th>ROC-AUC</th>\n",
       "      <th>Balanced-accuracy</th>\n",
       "      <th>Weighted-f1</th>\n",
       "    </tr>\n",
       "    <tr>\n",
       "      <th>Fold</th>\n",
       "      <th></th>\n",
       "      <th></th>\n",
       "      <th></th>\n",
       "    </tr>\n",
       "  </thead>\n",
       "  <tbody>\n",
       "    <tr>\n",
       "      <th>0</th>\n",
       "      <td>0.8599</td>\n",
       "      <td>0.7930</td>\n",
       "      <td>0.7994</td>\n",
       "    </tr>\n",
       "    <tr>\n",
       "      <th>1</th>\n",
       "      <td>0.9395</td>\n",
       "      <td>0.8672</td>\n",
       "      <td>0.8554</td>\n",
       "    </tr>\n",
       "    <tr>\n",
       "      <th>2</th>\n",
       "      <td>0.9076</td>\n",
       "      <td>0.8477</td>\n",
       "      <td>0.8284</td>\n",
       "    </tr>\n",
       "    <tr>\n",
       "      <th>3</th>\n",
       "      <td>0.8904</td>\n",
       "      <td>0.8047</td>\n",
       "      <td>0.8001</td>\n",
       "    </tr>\n",
       "    <tr>\n",
       "      <th>4</th>\n",
       "      <td>0.9435</td>\n",
       "      <td>0.8685</td>\n",
       "      <td>0.8705</td>\n",
       "    </tr>\n",
       "    <tr>\n",
       "      <th>5</th>\n",
       "      <td>0.8972</td>\n",
       "      <td>0.8516</td>\n",
       "      <td>0.8338</td>\n",
       "    </tr>\n",
       "    <tr>\n",
       "      <th>6</th>\n",
       "      <td>0.8776</td>\n",
       "      <td>0.8086</td>\n",
       "      <td>0.8055</td>\n",
       "    </tr>\n",
       "    <tr>\n",
       "      <th>7</th>\n",
       "      <td>0.9236</td>\n",
       "      <td>0.8594</td>\n",
       "      <td>0.8446</td>\n",
       "    </tr>\n",
       "    <tr>\n",
       "      <th>8</th>\n",
       "      <td>0.9274</td>\n",
       "      <td>0.8594</td>\n",
       "      <td>0.8446</td>\n",
       "    </tr>\n",
       "    <tr>\n",
       "      <th>9</th>\n",
       "      <td>0.9179</td>\n",
       "      <td>0.8601</td>\n",
       "      <td>0.8440</td>\n",
       "    </tr>\n",
       "    <tr>\n",
       "      <th>10</th>\n",
       "      <td>0.9414</td>\n",
       "      <td>0.8672</td>\n",
       "      <td>0.8554</td>\n",
       "    </tr>\n",
       "    <tr>\n",
       "      <th>11</th>\n",
       "      <td>0.8621</td>\n",
       "      <td>0.8203</td>\n",
       "      <td>0.8062</td>\n",
       "    </tr>\n",
       "    <tr>\n",
       "      <th>12</th>\n",
       "      <td>0.9102</td>\n",
       "      <td>0.8516</td>\n",
       "      <td>0.8492</td>\n",
       "    </tr>\n",
       "    <tr>\n",
       "      <th>13</th>\n",
       "      <td>0.9099</td>\n",
       "      <td>0.8555</td>\n",
       "      <td>0.8546</td>\n",
       "    </tr>\n",
       "    <tr>\n",
       "      <th>14</th>\n",
       "      <td>0.9147</td>\n",
       "      <td>0.8443</td>\n",
       "      <td>0.8223</td>\n",
       "    </tr>\n",
       "  </tbody>\n",
       "</table>\n",
       "</div>"
      ],
      "text/plain": [
       "      ROC-AUC  Balanced-accuracy  Weighted-f1\n",
       "Fold                                         \n",
       "0      0.8599             0.7930       0.7994\n",
       "1      0.9395             0.8672       0.8554\n",
       "2      0.9076             0.8477       0.8284\n",
       "3      0.8904             0.8047       0.8001\n",
       "4      0.9435             0.8685       0.8705\n",
       "5      0.8972             0.8516       0.8338\n",
       "6      0.8776             0.8086       0.8055\n",
       "7      0.9236             0.8594       0.8446\n",
       "8      0.9274             0.8594       0.8446\n",
       "9      0.9179             0.8601       0.8440\n",
       "10     0.9414             0.8672       0.8554\n",
       "11     0.8621             0.8203       0.8062\n",
       "12     0.9102             0.8516       0.8492\n",
       "13     0.9099             0.8555       0.8546\n",
       "14     0.9147             0.8443       0.8223"
      ]
     },
     "metadata": {},
     "output_type": "display_data"
    },
    {
     "name": "stdout",
     "output_type": "stream",
     "text": [
      "Average ROC-AUC = 0.9082 (with std = 0.0257)\n",
      "Average Balanced-accuracy = 0.8439 (with std = 0.0240)\n",
      "Average Weighted-f1 = 0.8343 (with std = 0.0221)\n"
     ]
    }
   ],
   "source": [
    "predictions_dict['cb_all'] = evaluate_model(cb_model, features, {'cat_features': cat_features})"
   ]
  },
  {
   "cell_type": "code",
   "execution_count": 18,
   "id": "76102f4a",
   "metadata": {
    "execution": {
     "iopub.execute_input": "2022-06-14T13:25:28.442418Z",
     "iopub.status.busy": "2022-06-14T13:25:28.442024Z",
     "iopub.status.idle": "2022-06-14T13:25:54.313335Z",
     "shell.execute_reply": "2022-06-14T13:25:54.312288Z"
    },
    "papermill": {
     "duration": 25.887982,
     "end_time": "2022-06-14T13:25:54.316696",
     "exception": false,
     "start_time": "2022-06-14T13:25:28.428714",
     "status": "completed"
    },
    "tags": []
   },
   "outputs": [
    {
     "data": {
      "text/html": [
       "<div>\n",
       "<style scoped>\n",
       "    .dataframe tbody tr th:only-of-type {\n",
       "        vertical-align: middle;\n",
       "    }\n",
       "\n",
       "    .dataframe tbody tr th {\n",
       "        vertical-align: top;\n",
       "    }\n",
       "\n",
       "    .dataframe thead th {\n",
       "        text-align: right;\n",
       "    }\n",
       "</style>\n",
       "<table border=\"1\" class=\"dataframe\">\n",
       "  <thead>\n",
       "    <tr style=\"text-align: right;\">\n",
       "      <th></th>\n",
       "      <th>ROC-AUC</th>\n",
       "      <th>Balanced-accuracy</th>\n",
       "      <th>Weighted-f1</th>\n",
       "    </tr>\n",
       "    <tr>\n",
       "      <th>Fold</th>\n",
       "      <th></th>\n",
       "      <th></th>\n",
       "      <th></th>\n",
       "    </tr>\n",
       "  </thead>\n",
       "  <tbody>\n",
       "    <tr>\n",
       "      <th>0</th>\n",
       "      <td>0.8661</td>\n",
       "      <td>0.8047</td>\n",
       "      <td>0.8153</td>\n",
       "    </tr>\n",
       "    <tr>\n",
       "      <th>1</th>\n",
       "      <td>0.9448</td>\n",
       "      <td>0.8867</td>\n",
       "      <td>0.8669</td>\n",
       "    </tr>\n",
       "    <tr>\n",
       "      <th>2</th>\n",
       "      <td>0.9059</td>\n",
       "      <td>0.8555</td>\n",
       "      <td>0.8236</td>\n",
       "    </tr>\n",
       "    <tr>\n",
       "      <th>3</th>\n",
       "      <td>0.8818</td>\n",
       "      <td>0.7969</td>\n",
       "      <td>0.7894</td>\n",
       "    </tr>\n",
       "    <tr>\n",
       "      <th>4</th>\n",
       "      <td>0.9485</td>\n",
       "      <td>0.8797</td>\n",
       "      <td>0.8713</td>\n",
       "    </tr>\n",
       "    <tr>\n",
       "      <th>5</th>\n",
       "      <td>0.8827</td>\n",
       "      <td>0.8594</td>\n",
       "      <td>0.8290</td>\n",
       "    </tr>\n",
       "    <tr>\n",
       "      <th>6</th>\n",
       "      <td>0.8922</td>\n",
       "      <td>0.8125</td>\n",
       "      <td>0.8108</td>\n",
       "    </tr>\n",
       "    <tr>\n",
       "      <th>7</th>\n",
       "      <td>0.9331</td>\n",
       "      <td>0.8672</td>\n",
       "      <td>0.8398</td>\n",
       "    </tr>\n",
       "    <tr>\n",
       "      <th>8</th>\n",
       "      <td>0.9225</td>\n",
       "      <td>0.8789</td>\n",
       "      <td>0.8561</td>\n",
       "    </tr>\n",
       "    <tr>\n",
       "      <th>9</th>\n",
       "      <td>0.9166</td>\n",
       "      <td>0.8601</td>\n",
       "      <td>0.8440</td>\n",
       "    </tr>\n",
       "    <tr>\n",
       "      <th>10</th>\n",
       "      <td>0.9373</td>\n",
       "      <td>0.8516</td>\n",
       "      <td>0.8338</td>\n",
       "    </tr>\n",
       "    <tr>\n",
       "      <th>11</th>\n",
       "      <td>0.8784</td>\n",
       "      <td>0.8281</td>\n",
       "      <td>0.8169</td>\n",
       "    </tr>\n",
       "    <tr>\n",
       "      <th>12</th>\n",
       "      <td>0.9053</td>\n",
       "      <td>0.8359</td>\n",
       "      <td>0.8277</td>\n",
       "    </tr>\n",
       "    <tr>\n",
       "      <th>13</th>\n",
       "      <td>0.9188</td>\n",
       "      <td>0.8828</td>\n",
       "      <td>0.8615</td>\n",
       "    </tr>\n",
       "    <tr>\n",
       "      <th>14</th>\n",
       "      <td>0.9162</td>\n",
       "      <td>0.8476</td>\n",
       "      <td>0.8119</td>\n",
       "    </tr>\n",
       "  </tbody>\n",
       "</table>\n",
       "</div>"
      ],
      "text/plain": [
       "      ROC-AUC  Balanced-accuracy  Weighted-f1\n",
       "Fold                                         \n",
       "0      0.8661             0.8047       0.8153\n",
       "1      0.9448             0.8867       0.8669\n",
       "2      0.9059             0.8555       0.8236\n",
       "3      0.8818             0.7969       0.7894\n",
       "4      0.9485             0.8797       0.8713\n",
       "5      0.8827             0.8594       0.8290\n",
       "6      0.8922             0.8125       0.8108\n",
       "7      0.9331             0.8672       0.8398\n",
       "8      0.9225             0.8789       0.8561\n",
       "9      0.9166             0.8601       0.8440\n",
       "10     0.9373             0.8516       0.8338\n",
       "11     0.8784             0.8281       0.8169\n",
       "12     0.9053             0.8359       0.8277\n",
       "13     0.9188             0.8828       0.8615\n",
       "14     0.9162             0.8476       0.8119"
      ]
     },
     "metadata": {},
     "output_type": "display_data"
    },
    {
     "name": "stdout",
     "output_type": "stream",
     "text": [
      "Average ROC-AUC = 0.9100 (with std = 0.0246)\n",
      "Average Balanced-accuracy = 0.8498 (with std = 0.0278)\n",
      "Average Weighted-f1 = 0.8332 (with std = 0.0226)\n"
     ]
    }
   ],
   "source": [
    "predictions_dict['cb_best'] = evaluate_model(cb_model, best_features, {'cat_features': best_cat_features})"
   ]
  },
  {
   "cell_type": "markdown",
   "id": "b3237ebe",
   "metadata": {
    "papermill": {
     "duration": 0.012311,
     "end_time": "2022-06-14T13:25:54.343130",
     "exception": false,
     "start_time": "2022-06-14T13:25:54.330819",
     "status": "completed"
    },
    "tags": []
   },
   "source": [
    "* Performance is even better (slightly) than the [resampling + logistic regression pipelines](https://www.kaggle.com/code/stiwarids/autismprediction-resampling-experiments).\n",
    "* The *learning_rate* and *max_depth* are chosen manually. We can tune all the hyperparameters using GridSearch/Optuna/HyperOpt/etc.\n",
    "* In terms of AUC, all three algorithms have performed well, but we can see that balanced accuracy and weighted-f1 score for LightGBM is significantly low, which means it is not able to classify the minority class correctly. This may be because of LightGBM being optimized for large-scale datasets and our dataset being very small. It might be also because the manual hyperparameters for LightGBM are not correct for this dataset and some hyperparameter tuning might solve this problem.\n",
    "* **The notable hyperparameter is *scale_pos_weight* which makes the GBMs internally compensate for the class imbalance. We can see the effect of this hyperparameter by removing it and checking the metrics:**"
   ]
  },
  {
   "cell_type": "code",
   "execution_count": 19,
   "id": "16d7241a",
   "metadata": {
    "execution": {
     "iopub.execute_input": "2022-06-14T13:25:54.370088Z",
     "iopub.status.busy": "2022-06-14T13:25:54.369656Z",
     "iopub.status.idle": "2022-06-14T13:25:54.374815Z",
     "shell.execute_reply": "2022-06-14T13:25:54.373970Z"
    },
    "papermill": {
     "duration": 0.02193,
     "end_time": "2022-06-14T13:25:54.377591",
     "exception": false,
     "start_time": "2022-06-14T13:25:54.355661",
     "status": "completed"
    },
    "tags": []
   },
   "outputs": [],
   "source": [
    "xgb_model_no_scale = xgb.XGBClassifier(\n",
    "    n_estimators=1000,\n",
    "    learning_rate=0.1,\n",
    "    max_depth=4,\n",
    "    objective='binary:logistic',\n",
    "    tree_method='gpu_hist',\n",
    "    enable_categorical=True,\n",
    "    max_cat_to_onehot=2,\n",
    "    eval_metric='auc',\n",
    "    early_stopping_rounds=25,\n",
    "    random_state=SEED)"
   ]
  },
  {
   "cell_type": "code",
   "execution_count": 20,
   "id": "c804a26c",
   "metadata": {
    "execution": {
     "iopub.execute_input": "2022-06-14T13:25:54.404720Z",
     "iopub.status.busy": "2022-06-14T13:25:54.404347Z",
     "iopub.status.idle": "2022-06-14T13:25:58.699759Z",
     "shell.execute_reply": "2022-06-14T13:25:58.698540Z"
    },
    "papermill": {
     "duration": 4.312043,
     "end_time": "2022-06-14T13:25:58.702288",
     "exception": false,
     "start_time": "2022-06-14T13:25:54.390245",
     "status": "completed"
    },
    "tags": []
   },
   "outputs": [
    {
     "data": {
      "text/html": [
       "<div>\n",
       "<style scoped>\n",
       "    .dataframe tbody tr th:only-of-type {\n",
       "        vertical-align: middle;\n",
       "    }\n",
       "\n",
       "    .dataframe tbody tr th {\n",
       "        vertical-align: top;\n",
       "    }\n",
       "\n",
       "    .dataframe thead th {\n",
       "        text-align: right;\n",
       "    }\n",
       "</style>\n",
       "<table border=\"1\" class=\"dataframe\">\n",
       "  <thead>\n",
       "    <tr style=\"text-align: right;\">\n",
       "      <th></th>\n",
       "      <th>ROC-AUC</th>\n",
       "      <th>Balanced-accuracy</th>\n",
       "      <th>Weighted-f1</th>\n",
       "    </tr>\n",
       "    <tr>\n",
       "      <th>Fold</th>\n",
       "      <th></th>\n",
       "      <th></th>\n",
       "      <th></th>\n",
       "    </tr>\n",
       "  </thead>\n",
       "  <tbody>\n",
       "    <tr>\n",
       "      <th>0</th>\n",
       "      <td>0.8563</td>\n",
       "      <td>0.7344</td>\n",
       "      <td>0.8355</td>\n",
       "    </tr>\n",
       "    <tr>\n",
       "      <th>1</th>\n",
       "      <td>0.9373</td>\n",
       "      <td>0.8164</td>\n",
       "      <td>0.8918</td>\n",
       "    </tr>\n",
       "    <tr>\n",
       "      <th>2</th>\n",
       "      <td>0.9038</td>\n",
       "      <td>0.7266</td>\n",
       "      <td>0.8386</td>\n",
       "    </tr>\n",
       "    <tr>\n",
       "      <th>3</th>\n",
       "      <td>0.8838</td>\n",
       "      <td>0.7539</td>\n",
       "      <td>0.8340</td>\n",
       "    </tr>\n",
       "    <tr>\n",
       "      <th>4</th>\n",
       "      <td>0.9507</td>\n",
       "      <td>0.7985</td>\n",
       "      <td>0.8889</td>\n",
       "    </tr>\n",
       "    <tr>\n",
       "      <th>5</th>\n",
       "      <td>0.8995</td>\n",
       "      <td>0.8008</td>\n",
       "      <td>0.8695</td>\n",
       "    </tr>\n",
       "    <tr>\n",
       "      <th>6</th>\n",
       "      <td>0.8737</td>\n",
       "      <td>0.7109</td>\n",
       "      <td>0.8310</td>\n",
       "    </tr>\n",
       "    <tr>\n",
       "      <th>7</th>\n",
       "      <td>0.9285</td>\n",
       "      <td>0.8281</td>\n",
       "      <td>0.8777</td>\n",
       "    </tr>\n",
       "    <tr>\n",
       "      <th>8</th>\n",
       "      <td>0.9243</td>\n",
       "      <td>0.7734</td>\n",
       "      <td>0.8608</td>\n",
       "    </tr>\n",
       "    <tr>\n",
       "      <th>9</th>\n",
       "      <td>0.9114</td>\n",
       "      <td>0.7867</td>\n",
       "      <td>0.8719</td>\n",
       "    </tr>\n",
       "    <tr>\n",
       "      <th>10</th>\n",
       "      <td>0.9347</td>\n",
       "      <td>0.8320</td>\n",
       "      <td>0.8988</td>\n",
       "    </tr>\n",
       "    <tr>\n",
       "      <th>11</th>\n",
       "      <td>0.8613</td>\n",
       "      <td>0.7734</td>\n",
       "      <td>0.8608</td>\n",
       "    </tr>\n",
       "    <tr>\n",
       "      <th>12</th>\n",
       "      <td>0.9082</td>\n",
       "      <td>0.7656</td>\n",
       "      <td>0.8644</td>\n",
       "    </tr>\n",
       "    <tr>\n",
       "      <th>13</th>\n",
       "      <td>0.9155</td>\n",
       "      <td>0.7656</td>\n",
       "      <td>0.8644</td>\n",
       "    </tr>\n",
       "    <tr>\n",
       "      <th>14</th>\n",
       "      <td>0.9186</td>\n",
       "      <td>0.7334</td>\n",
       "      <td>0.8389</td>\n",
       "    </tr>\n",
       "  </tbody>\n",
       "</table>\n",
       "</div>"
      ],
      "text/plain": [
       "      ROC-AUC  Balanced-accuracy  Weighted-f1\n",
       "Fold                                         \n",
       "0      0.8563             0.7344       0.8355\n",
       "1      0.9373             0.8164       0.8918\n",
       "2      0.9038             0.7266       0.8386\n",
       "3      0.8838             0.7539       0.8340\n",
       "4      0.9507             0.7985       0.8889\n",
       "5      0.8995             0.8008       0.8695\n",
       "6      0.8737             0.7109       0.8310\n",
       "7      0.9285             0.8281       0.8777\n",
       "8      0.9243             0.7734       0.8608\n",
       "9      0.9114             0.7867       0.8719\n",
       "10     0.9347             0.8320       0.8988\n",
       "11     0.8613             0.7734       0.8608\n",
       "12     0.9082             0.7656       0.8644\n",
       "13     0.9155             0.7656       0.8644\n",
       "14     0.9186             0.7334       0.8389"
      ]
     },
     "metadata": {},
     "output_type": "display_data"
    },
    {
     "name": "stdout",
     "output_type": "stream",
     "text": [
      "Average ROC-AUC = 0.9072 (with std = 0.0270)\n",
      "Average Balanced-accuracy = 0.7733 (with std = 0.0361)\n",
      "Average Weighted-f1 = 0.8618 (with std = 0.0215)\n"
     ]
    }
   ],
   "source": [
    "predictions_dict['xgb_all_no_scale'] = evaluate_model(xgb_model_no_scale, features)"
   ]
  },
  {
   "cell_type": "markdown",
   "id": "c8f5a0a6",
   "metadata": {
    "papermill": {
     "duration": 0.008522,
     "end_time": "2022-06-14T13:25:58.720609",
     "exception": false,
     "start_time": "2022-06-14T13:25:58.712087",
     "status": "completed"
    },
    "tags": []
   },
   "source": [
    "**AUC is the same but balanced accuracy has fallen because minority class samples are not being classified correctly anymore.**"
   ]
  },
  {
   "cell_type": "markdown",
   "id": "77b57099",
   "metadata": {
    "papermill": {
     "duration": 0.008496,
     "end_time": "2022-06-14T13:25:58.737985",
     "exception": false,
     "start_time": "2022-06-14T13:25:58.729489",
     "status": "completed"
    },
    "tags": []
   },
   "source": [
    "# Generating submissions"
   ]
  },
  {
   "cell_type": "code",
   "execution_count": 21,
   "id": "f91e1b07",
   "metadata": {
    "execution": {
     "iopub.execute_input": "2022-06-14T13:25:58.756239Z",
     "iopub.status.busy": "2022-06-14T13:25:58.755961Z",
     "iopub.status.idle": "2022-06-14T13:25:58.772111Z",
     "shell.execute_reply": "2022-06-14T13:25:58.771426Z"
    },
    "papermill": {
     "duration": 0.027055,
     "end_time": "2022-06-14T13:25:58.773642",
     "exception": false,
     "start_time": "2022-06-14T13:25:58.746587",
     "status": "completed"
    },
    "tags": []
   },
   "outputs": [],
   "source": [
    "for model_name, predictions in predictions_dict.items():\n",
    "    sub = pd.DataFrame({\n",
    "        'ID': test_index,\n",
    "        'Class/ASD': predictions})\n",
    "    sub.to_csv(f'sub_{model_name}.csv', index=False)"
   ]
  },
  {
   "cell_type": "code",
   "execution_count": 22,
   "id": "26f0469c",
   "metadata": {
    "execution": {
     "iopub.execute_input": "2022-06-14T13:25:58.792875Z",
     "iopub.status.busy": "2022-06-14T13:25:58.792320Z",
     "iopub.status.idle": "2022-06-14T13:25:59.471913Z",
     "shell.execute_reply": "2022-06-14T13:25:59.470922Z"
    },
    "papermill": {
     "duration": 0.691055,
     "end_time": "2022-06-14T13:25:59.473702",
     "exception": false,
     "start_time": "2022-06-14T13:25:58.782647",
     "status": "completed"
    },
    "tags": []
   },
   "outputs": [
    {
     "name": "stdout",
     "output_type": "stream",
     "text": [
      "ID,Class/ASD\r\n",
      "1,0.59519756\r\n",
      "2,0.21645269\r\n",
      "3,0.5770506\r\n",
      "4,0.211017\r\n",
      "5,0.21696441\r\n",
      "6,0.22354202\r\n",
      "7,0.58546287\r\n",
      "8,0.30835214\r\n",
      "9,0.21050224\r\n"
     ]
    }
   ],
   "source": [
    "!head sub_xgb_all.csv"
   ]
  },
  {
   "cell_type": "markdown",
   "id": "4ab0eac3",
   "metadata": {
    "papermill": {
     "duration": 0.009133,
     "end_time": "2022-06-14T13:25:59.492051",
     "exception": false,
     "start_time": "2022-06-14T13:25:59.482918",
     "status": "completed"
    },
    "tags": []
   },
   "source": [
    "**Would appreciate any feedback about the content as well as the presentation. Thank you!**"
   ]
  }
 ],
 "metadata": {
  "kernelspec": {
   "display_name": "Python 3",
   "language": "python",
   "name": "python3"
  },
  "language_info": {
   "codemirror_mode": {
    "name": "ipython",
    "version": 3
   },
   "file_extension": ".py",
   "mimetype": "text/x-python",
   "name": "python",
   "nbconvert_exporter": "python",
   "pygments_lexer": "ipython3",
   "version": "3.7.12"
  },
  "papermill": {
   "default_parameters": {},
   "duration": 175.887235,
   "end_time": "2022-06-14T13:26:00.922910",
   "environment_variables": {},
   "exception": null,
   "input_path": "__notebook__.ipynb",
   "output_path": "__notebook__.ipynb",
   "parameters": {},
   "start_time": "2022-06-14T13:23:05.035675",
   "version": "2.3.4"
  }
 },
 "nbformat": 4,
 "nbformat_minor": 5
}
